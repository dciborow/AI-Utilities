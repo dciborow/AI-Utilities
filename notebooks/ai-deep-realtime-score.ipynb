{
 "cells": [
  {
   "cell_type": "code",
   "execution_count": null,
   "metadata": {},
   "outputs": [],
   "source": [
    "%%writefile train_dl.py\n",
    "\n",
    "import argparse\n",
    "import os\n",
    "\n",
    "from resnet152 import ResNet152\n",
    "\n",
    "if __name__ == '__main__':\n",
    "    # Define the arguments.\n",
    "    parser = argparse.ArgumentParser(description='Fit and evaluate a model based on train-test datasets.')\n",
    "    parser.add_argument('--outputs', help='the outputs directory', default='outputs')\n",
    "    parser.add_argument('--model', help='the model file', default='model.pkl')\n",
    "    args = parser.parse_args()\n",
    "\n",
    "    resnet_152 = ResNet152(weights=\"imagenet\")\n",
    "    resnet_152.save_weights(os.path.join(args.outputs, args.model))"
   ]
  },
  {
   "cell_type": "code",
   "execution_count": null,
   "metadata": {},
   "outputs": [],
   "source": [
    "%%writefile score_dl.py\n",
    "\n",
    "import os.path\n",
    "\n",
    "from resnet152 import ResNet152\n",
    "from keras.preprocessing import image\n",
    "from keras.applications.imagenet_utils import preprocess_input, decode_predictions\n",
    "from azureml.contrib.services.aml_request import rawhttp\n",
    "from azureml.contrib.services.aml_response import AMLResponse\n",
    "from toolz import compose\n",
    "import numpy as np\n",
    "from PIL import Image, ImageOps\n",
    "\n",
    "_NUMBER_RESULTS = 3\n",
    "\n",
    "\n",
    "def init():\n",
    "    \"\"\" Initialise the model and scoring function\n",
    "    \"\"\"\n",
    "    global model\n",
    "    assert os.path.isfile(\"./outputs/model.pkl\")\n",
    "    model = ResNet152()\n",
    "    model.load_weights(\"./outputs/model.pkl\")\n",
    "\n",
    "@rawhttp\n",
    "def run(request):\n",
    "    \"\"\" Make a prediction based on the data passed in using the preloaded model\n",
    "    \"\"\"\n",
    "    if request.method == 'POST':\n",
    "        \"\"\" Classify the input using the loaded model\n",
    "        \"\"\"\n",
    "        #preprocess\n",
    "        transform_input = compose(_pil_to_numpy, _image_ref_to_pil_image)\n",
    "        transformed_dict = {key: transform_input(img_ref) for key, img_ref in request.files.items()}\n",
    "        img_array = preprocess_input(np.stack(list(transformed_dict.values())))\n",
    "        \n",
    "        preds = model.predict(img_array)        \n",
    "        \n",
    "        # Postprocess\n",
    "        # nverting predictions to float64 since we are able to serialize float64 but not float32\n",
    "        preds = decode_predictions(preds.astype(np.float64), top=_NUMBER_RESULTS)\n",
    "        return dict(zip(transformed_dict.keys(), preds))\n",
    "\n",
    "    if request.method == 'GET':\n",
    "        return {\"azEnvironment\": \"Azure\"}\n",
    "    return AMLResponse(\"bad request\", 500)\n",
    "\n",
    "                    \n",
    "def _image_ref_to_pil_image(image_ref):\n",
    "    \"\"\" Load image with PIL (RGB)\n",
    "    \"\"\"\n",
    "    return Image.open(image_ref).convert(\"RGB\")\n",
    "\n",
    "\n",
    "def _pil_to_numpy(pil_image):\n",
    "    img = ImageOps.fit(pil_image, (224, 224), Image.ANTIALIAS)\n",
    "    img = image.img_to_array(img)\n",
    "    return img\n"
   ]
  },
  {
   "cell_type": "code",
   "execution_count": null,
   "metadata": {},
   "outputs": [],
   "source": [
    "from azure_utils.machine_learning.ai_workspace import  DeepRealtimeScore\n",
    "\n",
    "DeepRealtimeScore.get_or_or_create(project_config=\"dl-rts.project.yml\",\n",
    "                                   train_py=\"train_dl.py\", \n",
    "                                   score_py=\"score_dl.py\")"
   ]
  },
  {
   "cell_type": "code",
   "execution_count": null,
   "metadata": {},
   "outputs": [],
   "source": []
  }
 ],
 "metadata": {
  "kernelspec": {
   "display_name": "Python [conda env:.conda-ai-utilities] *",
   "language": "python",
   "name": "conda-env-.conda-ai-utilities-py"
  },
  "language_info": {
   "codemirror_mode": {
    "name": "ipython",
    "version": 3
   },
   "file_extension": ".py",
   "mimetype": "text/x-python",
   "name": "python",
   "nbconvert_exporter": "python",
   "pygments_lexer": "ipython3",
   "version": "3.6.2"
  },
  "pycharm": {
   "stem_cell": {
    "cell_type": "raw",
    "metadata": {
     "collapsed": false
    },
    "source": []
   }
  }
 },
 "nbformat": 4,
 "nbformat_minor": 1
}
