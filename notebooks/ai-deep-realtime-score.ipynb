{
 "cells": [
  {
   "cell_type": "code",
   "execution_count": null,
   "outputs": [],
   "source": [
    "%%writefile train.py\n",
    "\n",
    "import argparse\n",
    "import os\n",
    "\n",
    "from sklearn.externals import joblib\n",
    "\n",
    "from resnet152 import ResNet152\n",
    "\n",
    "if __name__ == '__main__':\n",
    "    # Define the arguments.\n",
    "    parser = argparse.ArgumentParser(description='Fit and evaluate a model based on train-test datasets.')\n",
    "    parser.add_argument('--outputs', help='the outputs directory', default='.')\n",
    "    parser.add_argument('--model', help='the model file', default='model.pkl')\n",
    "    args = parser.parse_args()\n",
    "\n",
    "    resnet_152 = ResNet152(weights=\"imagenet\")\n",
    "\n",
    "    # Save the model to a file, and report on its size.\n",
    "    os.makedirs(args.outputs, exist_ok=True)\n",
    "    joblib.dump(resnet_152.get_weights(), os.path.join(args.outputs, args.model))\n",
    "\n"
   ],
   "metadata": {
    "collapsed": false,
    "pycharm": {
     "name": "#%%\n"
    }
   }
  },
  {
   "cell_type": "code",
   "execution_count": null,
   "outputs": [],
   "source": [
    "%%writefile score.py\n",
    "\n",
    "from resnet152 import ResNet152\n",
    "from keras.preprocessing import image\n",
    "from keras.applications.imagenet_utils import preprocess_input, decode_predictions\n",
    "from azureml.contrib.services.aml_request import rawhttp\n",
    "from azureml.core.model import Model\n",
    "from azureml.contrib.services.aml_response import AMLResponse\n",
    "from toolz import compose\n",
    "import numpy as np\n",
    "from PIL import Image, ImageOps\n",
    "\n",
    "_NUMBER_RESULTS = 3\n",
    "\n",
    "def init():\n",
    "    \"\"\" Initialise the model and scoring function\n",
    "    \"\"\"\n",
    "    global model\n",
    "    model = ResNet152()\n",
    "    model_name = \"resnet_model\"\n",
    "    model_path = Model.get_model_path(model_name)    \n",
    "    model.load_weights(model_path)\n",
    "\n",
    "@rawhttp\n",
    "def run(request):\n",
    "    \"\"\" Make a prediction based on the data passed in using the preloaded model\n",
    "    \"\"\"\n",
    "    if request.method == 'POST':\n",
    "        \"\"\" Classify the input using the loaded model\n",
    "        \"\"\"\n",
    "        #preprocess\n",
    "        transform_input = compose(_pil_to_numpy, _image_ref_to_pil_image)\n",
    "        transformed_dict = {key: transform_input(img_ref) for key, img_ref in request.files.items()}\n",
    "        img_array = preprocess_input(np.stack(list(transformed_dict.values())))\n",
    "        \n",
    "        preds = model.predict(img_array)        \n",
    "        \n",
    "        # Postprocess\n",
    "        # nverting predictions to float64 since we are able to serialize float64 but not float32\n",
    "        preds = decode_predictions(preds.astype(np.float64), top=_NUMBER_RESULTS)\n",
    "        return dict(zip(transformed_dict.keys(), preds))\n",
    "\n",
    "    if request.method == 'GET':\n",
    "        return {\"azEnvironment\": \"Azure\"}\n",
    "    return AMLResponse(\"bad request\", 500)\n",
    "\n",
    "                    \n",
    "def _image_ref_to_pil_image(image_ref):\n",
    "    \"\"\" Load image with PIL (RGB)\n",
    "    \"\"\"\n",
    "    return Image.open(image_ref).convert(\"RGB\")\n",
    "\n",
    "\n",
    "def _pil_to_numpy(pil_image):\n",
    "    img = ImageOps.fit(pil_image, (224, 224), Image.ANTIALIAS)\n",
    "    img = image.img_to_array(img)\n",
    "    return img\n"
   ],
   "metadata": {
    "collapsed": false,
    "pycharm": {
     "name": "#%%\n"
    }
   }
  },
  {
   "cell_type": "code",
   "execution_count": null,
   "outputs": [],
   "source": [
    "from azure_utils.machine_learning.ai_workspace import  DeepRealtimeScore\n",
    "\n",
    "DeepRealtimeScore.get_or_or_create(project_config=\"dl-rts.project.yml\")"
   ],
   "metadata": {
    "collapsed": false,
    "pycharm": {
     "name": "#%%\n"
    }
   }
  },
  {
   "cell_type": "markdown",
   "source": [
    "Notebook Complete"
   ],
   "metadata": {
    "collapsed": false
   }
  }
 ],
 "metadata": {
  "kernelspec": {
   "display_name": "ai-utilities",
   "language": "python",
   "name": "ai-utilities"
  },
  "language_info": {
   "codemirror_mode": {
    "name": "ipython",
    "version": 3
   },
   "file_extension": ".py",
   "mimetype": "text/x-python",
   "name": "python",
   "nbconvert_exporter": "python",
   "pygments_lexer": "ipython3",
   "version": "3.6.2"
  },
  "pycharm": {
   "stem_cell": {
    "cell_type": "raw",
    "source": [],
    "metadata": {
     "collapsed": false
    }
   }
  }
 },
 "nbformat": 4,
 "nbformat_minor": 1
}