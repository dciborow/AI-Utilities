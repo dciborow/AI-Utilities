{
 "cells": [
  {
   "cell_type": "markdown",
   "metadata": {
    "toc": true
   },
   "source": [
    "<h1>Table of Contents<span class=\"tocSkip\"></span></h1>\n",
    "<div class=\"toc\"><ul class=\"toc-item\"><li><span><a href=\"#Deploy-Solution\" data-toc-modified-id=\"Deploy-Solution-1\">Deploy Solution</a></span><ul class=\"toc-item\"><li><span><a href=\"#Create-Configuration\" data-toc-modified-id=\"Create-Configuration-1.1\">Create Configuration</a></span></li><li><span><a href=\"#Create-Train.py\" data-toc-modified-id=\"Create-Train.py-1.2\">Create Train.py</a></span></li><li><span><a href=\"#Create-Score.py\" data-toc-modified-id=\"Create-Score.py-1.3\">Create Score.py</a></span></li></ul></li><li><span><a href=\"#Deploy-Services\" data-toc-modified-id=\"Deploy-Services-2\">Deploy Services</a></span><ul class=\"toc-item\"><li><span><a href=\"#Machine-Learning-Studio\" data-toc-modified-id=\"Machine-Learning-Studio-2.1\">Machine Learning Studio</a></span></li><li><span><a href=\"#Kubernetes\" data-toc-modified-id=\"Kubernetes-2.2\">Kubernetes</a></span></li><li><span><a href=\"#Application-Insights\" data-toc-modified-id=\"Application-Insights-2.3\">Application Insights</a></span><ul class=\"toc-item\"><li><span><a href=\"#Main\" data-toc-modified-id=\"Main-2.3.1\">Main</a></span></li><li><span><a href=\"#Availability\" data-toc-modified-id=\"Availability-2.3.2\">Availability</a></span></li><li><span><a href=\"#Performance-Dashboard\" data-toc-modified-id=\"Performance-Dashboard-2.3.3\">Performance Dashboard</a></span></li><li><span><a href=\"#Load-Test\" data-toc-modified-id=\"Load-Test-2.3.4\">Load Test</a></span></li></ul></li></ul></li></ul></div>"
   ]
  },
  {
   "cell_type": "markdown",
   "metadata": {},
   "source": [
    "## Deploy Solution\n",
    "\n",
    "### Create Configuration"
   ]
  },
  {
   "cell_type": "code",
   "execution_count": null,
   "metadata": {},
   "outputs": [],
   "source": [
    "project_configuration = \"../notebook_project.yml\""
   ]
  },
  {
   "cell_type": "code",
   "execution_count": 14,
   "metadata": {
    "init_cell": true,
    "scrolled": false
   },
   "outputs": [
    {
     "data": {
      "text/html": [
       "<script>\n",
       "$('div.cell.code_cell.rendered.selected div.input').hide();\n",
       "code_show=true; \n",
       "function code_toggle() {\n",
       "    if (code_show){\n",
       "        $('div.cell.code_cell.rendered.selected div.input').hide();\n",
       "    } else {\n",
       "        $('div.cell.code_cell.rendered.selected div.input').show();\n",
       "    }\n",
       "    code_show = !code_show\n",
       "} \n",
       "$( document ).ready(code_toggle);\n",
       "</script>\n",
       "To show/hide this cell's raw code input, click <a href=\"javascript:code_toggle()\">here</a>."
      ],
      "text/plain": [
       "<IPython.core.display.HTML object>"
      ]
     },
     "metadata": {},
     "output_type": "display_data"
    },
    {
     "data": {
      "application/vnd.jupyter.widget-view+json": {
       "model_id": "c7c96ad347254eafa59959d1b6238c66",
       "version_major": 2,
       "version_minor": 0
      },
      "text/plain": [
       "VBox(children=(Output(), FileUpload(value={}, accept='.yml', description='Upload'), Button(button_style='succe…"
      ]
     },
     "metadata": {},
     "output_type": "display_data"
    }
   ],
   "source": [
    "from IPython.display import HTML\n",
    "from IPython.display import display\n",
    "\n",
    "# Taken from https://stackoverflow.com/questions/31517194/how-to-hide-one-specific-cell-input-or-output-in-ipython-notebook\n",
    "tag = HTML('''<script>\n",
    "$('div.cell.code_cell.rendered.selected div.input').hide();\n",
    "code_show=true; \n",
    "function code_toggle() {\n",
    "    if (code_show){\n",
    "        $('div.cell.code_cell.rendered.selected div.input').hide();\n",
    "    } else {\n",
    "        $('div.cell.code_cell.rendered.selected div.input').show();\n",
    "    }\n",
    "    code_show = !code_show\n",
    "} \n",
    "$( document ).ready(code_toggle);\n",
    "</script>\n",
    "To show/hide this cell's raw code input, click <a href=\"javascript:code_toggle()\">here</a>.''')\n",
    "display(tag)\n",
    "from azure_utils.notebook_widgets.notebook_configuration_widget import get_configuration_widget\n",
    "widget = get_configuration_widget(project_configuration)\n",
    "\n",
    "display(widget)\n",
    "\n",
    "import os.path\n",
    "\n",
    "if not os.path.isdir(\"source\"):\n",
    "    os.mkdir(\"source\")"
   ]
  },
  {
   "cell_type": "markdown",
   "metadata": {},
   "source": [
    "### Create Train.py"
   ]
  },
  {
   "cell_type": "code",
   "execution_count": null,
   "metadata": {},
   "outputs": [],
   "source": [
    "%%writefile train_dl.py\n",
    "\n",
    "import argparse\n",
    "import os\n",
    "\n",
    "from azure_utils.resnet152 import ResNet152\n",
    "\n",
    "if __name__ == '__main__':\n",
    "    # Define the arguments.\n",
    "    parser = argparse.ArgumentParser(description='Fit and evaluate a model based on train-test datasets.')\n",
    "    parser.add_argument('--outputs', help='the outputs directory', default='outputs')\n",
    "    parser.add_argument('--model', help='the model file', default='model.pkl')\n",
    "    args = parser.parse_args()\n",
    "\n",
    "    resnet_152 = ResNet152(weights=\"imagenet\")\n",
    "    resnet_152.save_weights(os.path.join(args.outputs, args.model))"
   ]
  },
  {
   "cell_type": "markdown",
   "metadata": {},
   "source": [
    "### Create Score.py"
   ]
  },
  {
   "cell_type": "code",
   "execution_count": null,
   "metadata": {},
   "outputs": [],
   "source": [
    "%%writefile source/score_dl.py\n",
    "\n",
    "import os.path\n",
    "\n",
    "from azure_utils.resnet152 import ResNet152\n",
    "from keras.preprocessing import image\n",
    "from keras.applications.imagenet_utils import preprocess_input, decode_predictions\n",
    "from azureml.contrib.services.aml_request import rawhttp\n",
    "from azureml.contrib.services.aml_response import AMLResponse\n",
    "from toolz import compose\n",
    "import numpy as np\n",
    "from PIL import Image, ImageOps\n",
    "\n",
    "_NUMBER_RESULTS = 3\n",
    "\n",
    "\n",
    "def init():\n",
    "    \"\"\" Initialise the model and scoring function\n",
    "    \"\"\"\n",
    "    global model\n",
    "    dir = \".\"\n",
    "    if os.getenv('AZUREML_MODEL_DIR'):\n",
    "        dir = os.getenv('AZUREML_MODEL_DIR')\n",
    "\n",
    "    assert os.path.isfile(dir + \"/model.pkl\")\n",
    "\n",
    "    model = ResNet152()\n",
    "    model.load_weights(dir + \"/model.pkl\")\n",
    "\n",
    "@rawhttp\n",
    "def run(request):\n",
    "    \"\"\" Make a prediction based on the data passed in using the preloaded model\n",
    "    \"\"\"\n",
    "    if request.method == 'POST':\n",
    "        \"\"\" Classify the input using the loaded model\n",
    "        \"\"\"\n",
    "        #preprocess\n",
    "        transform_input = compose(_pil_to_numpy, _image_ref_to_pil_image)\n",
    "        transformed_dict = {key: transform_input(img_ref) for key, img_ref in request.files.items()}\n",
    "        img_array = preprocess_input(np.stack(list(transformed_dict.values())))\n",
    "        \n",
    "        preds = model.predict(img_array)        \n",
    "        \n",
    "        # Postprocess\n",
    "        # nverting predictions to float64 since we are able to serialize float64 but not float32\n",
    "        preds = decode_predictions(preds.astype(np.float64), top=_NUMBER_RESULTS)\n",
    "        return dict(zip(transformed_dict.keys(), preds))\n",
    "\n",
    "    if request.method == 'GET':\n",
    "        return {\"azEnvironment\": \"Azure\"}\n",
    "    return AMLResponse(\"bad request\", 500)\n",
    "\n",
    "                    \n",
    "def _image_ref_to_pil_image(image_ref):\n",
    "    \"\"\" Load image with PIL (RGB)\n",
    "    \"\"\"\n",
    "    return Image.open(image_ref).convert(\"RGB\")\n",
    "\n",
    "\n",
    "def _pil_to_numpy(pil_image):\n",
    "    img = ImageOps.fit(pil_image, (224, 224), Image.ANTIALIAS)\n",
    "    img = image.img_to_array(img)\n",
    "    return img\n"
   ]
  },
  {
   "cell_type": "code",
   "execution_count": null,
   "metadata": {},
   "outputs": [],
   "source": [
    "from azure_utils.machine_learning.ai_workspace import  DeepRealtimeScore\n",
    "\n",
    "deep_ws, aks_service = DeepRealtimeScore.get_or_or_create(configuration_file=project_configuration,\n",
    "                                   train_py=\"train_dl.py\", \n",
    "                                   score_py=\"score_dl.py\")"
   ]
  },
  {
   "cell_type": "markdown",
   "metadata": {
    "pycharm": {
     "name": "#%% md\n"
    }
   },
   "source": [
    "## Deploy Services\n",
    "### Machine Learning Studio\n",
    "![ML Studio](https://raw.githubusercontent.com/microsoft/AI-Utilities/master/docs/studio.png)\n",
    "\n",
    "### Kubernetes\n",
    "\n",
    "![Kubernetes](https://raw.githubusercontent.com/microsoft/AI-Utilities/master/docs/kubernetes.png)\n",
    "\n",
    "### Application Insights \n",
    "\n",
    "#### Main\n",
    "![App Insights](https://raw.githubusercontent.com/microsoft/AI-Utilities/master/docs/app_insights_1.png)\n",
    "#### Availability\n",
    "![App Insights](https://raw.githubusercontent.com/microsoft/AI-Utilities/master/docs/app_insights_availability.png)\n",
    "#### Performance Dashboard\n",
    "![App Insights](https://raw.githubusercontent.com/microsoft/AI-Utilities/master/docs/app_insights_perf_dash.png)\n",
    "#### Load Test\n",
    "![App Insights](https://raw.githubusercontent.com/microsoft/AI-Utilities/master/docs/app_insights_perf.png)"
   ]
  }
 ],
 "metadata": {
  "celltoolbar": "Raw Cell Format",
  "kernelspec": {
   "display_name": "ai-utilities",
   "language": "python",
   "name": "ai-utilities"
  },
  "language_info": {
   "codemirror_mode": {
    "name": "ipython",
    "version": 3
   },
   "file_extension": ".py",
   "mimetype": "text/x-python",
   "name": "python",
   "nbconvert_exporter": "python",
   "pygments_lexer": "ipython3",
   "version": "3.6.2"
  },
  "pycharm": {
   "stem_cell": {
    "cell_type": "raw",
    "source": [
     "%% md\n",
     "[![Binder](https://mybinder.org/badge_logo.svg)](https://mybinder.org/v2/gh/microsoft/AI-Utilities/deep_learning_2?filepath=notebooks%2Fai-deep-realtime-score.ipynb)\n"
    ],
    "metadata": {
     "collapsed": false
    }
   }
  },
  "toc": {
   "base_numbering": 1,
   "nav_menu": {},
   "number_sections": false,
   "sideBar": false,
   "skip_h1_title": false,
   "title_cell": "Table of Contents",
   "title_sidebar": "Contents",
   "toc_cell": true,
   "toc_position": {
    "height": "102px",
    "left": "488px",
    "top": "187px",
    "width": "304px"
   },
   "toc_section_display": true,
   "toc_window_display": false
  }
 },
 "nbformat": 4,
 "nbformat_minor": 4
}