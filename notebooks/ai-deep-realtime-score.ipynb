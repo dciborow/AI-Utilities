{
 "cells": [
  {
   "cell_type": "markdown",
   "metadata": {
    "toc": true
   },
   "source": [
    "<h1>Table of Contents<span class=\"tocSkip\"></span></h1>\n",
    "<div class=\"toc\"><ul class=\"toc-item\"><li><span><a href=\"#Deploy-Solution\" data-toc-modified-id=\"Deploy-Solution-1\">Deploy Solution</a></span><ul class=\"toc-item\"><li><span><a href=\"#Create-Configuration\" data-toc-modified-id=\"Create-Configuration-1.1\">Create Configuration</a></span></li><li><span><a href=\"#Create-Train.py\" data-toc-modified-id=\"Create-Train.py-1.2\">Create Train.py</a></span></li><li><span><a href=\"#Create-Score.py\" data-toc-modified-id=\"Create-Score.py-1.3\">Create Score.py</a></span></li></ul></li><li><span><a href=\"#Deploy-Services\" data-toc-modified-id=\"Deploy-Services-2\">Deploy Services</a></span><ul class=\"toc-item\"><li><span><a href=\"#Machine-Learning-Studio\" data-toc-modified-id=\"Machine-Learning-Studio-2.1\">Machine Learning Studio</a></span></li><li><span><a href=\"#Kubernetes\" data-toc-modified-id=\"Kubernetes-2.2\">Kubernetes</a></span></li><li><span><a href=\"#Application-Insights\" data-toc-modified-id=\"Application-Insights-2.3\">Application Insights</a></span><ul class=\"toc-item\"><li><span><a href=\"#Main\" data-toc-modified-id=\"Main-2.3.1\">Main</a></span></li><li><span><a href=\"#Availability\" data-toc-modified-id=\"Availability-2.3.2\">Availability</a></span></li><li><span><a href=\"#Performance-Dashboard\" data-toc-modified-id=\"Performance-Dashboard-2.3.3\">Performance Dashboard</a></span></li><li><span><a href=\"#Load-Test\" data-toc-modified-id=\"Load-Test-2.3.4\">Load Test</a></span></li></ul></li></ul></li></ul></div>"
   ]
  },
  {
   "cell_type": "markdown",
   "metadata": {},
   "source": [
    "[![Binder](https://mybinder.org/badge_logo.svg)](https://mybinder.org/v2/gh/microsoft/AI-Utilities/deep_learning_2?filepath=notebooks%2Fai-deep-realtime-score.ipynb)\n",
    "\n",
    "## Deploy Solution\n",
    "\n",
    "### Create Configuration"
   ]
  },
  {
   "cell_type": "code",
   "execution_count": null,
   "metadata": {},
   "outputs": [],
   "source": [
    "project_configuration = \"../notebook_project.yml\""
   ]
  },
  {
   "cell_type": "code",
   "execution_count": null,
   "metadata": {
    "init_cell": true,
    "scrolled": false
   },
   "outputs": [],
   "source": [
    "from azure_utils.notebook_widgets.notebook_configuration_widget import get_configuration_widget\n",
    "widget = get_configuration_widget(project_configuration)\n",
    "\n",
    "display(widget)\n",
    "\n",
    "import os.path\n",
    "\n",
    "if not os.path.isdir(\"source\"):\n",
    "    os.mkdir(\"source\")"
   ]
  },
  {
   "cell_type": "markdown",
   "metadata": {},
   "source": [
    "### Create Train.py"
   ]
  },
  {
   "cell_type": "code",
   "execution_count": null,
   "metadata": {},
   "outputs": [],
   "source": [
    "%%writefile train_dl.py\n",
    "\n",
    "import argparse\n",
    "import os\n",
    "\n",
    "from azure_utils.resnet152 import ResNet152\n",
    "\n",
    "if __name__ == '__main__':\n",
    "    # Define the arguments.\n",
    "    parser = argparse.ArgumentParser(description='Fit and evaluate a model based on train-test datasets.')\n",
    "    parser.add_argument('--outputs', help='the outputs directory', default='outputs')\n",
    "    parser.add_argument('--model', help='the model file', default='model.pkl')\n",
    "    args = parser.parse_args()\n",
    "\n",
    "    resnet_152 = ResNet152(weights=\"imagenet\")\n",
    "    resnet_152.save_weights(os.path.join(args.outputs, args.model))"
   ]
  },
  {
   "cell_type": "markdown",
   "metadata": {},
   "source": [
    "### Create Score.py"
   ]
  },
  {
   "cell_type": "code",
   "execution_count": null,
   "metadata": {},
   "outputs": [],
   "source": [
    "%%writefile source/score_dl.py\n",
    "\n",
    "import os.path\n",
    "\n",
    "from azure_utils.resnet152 import ResNet152\n",
    "from keras.preprocessing import image\n",
    "from keras.applications.imagenet_utils import preprocess_input, decode_predictions\n",
    "from azureml.contrib.services.aml_request import rawhttp\n",
    "from azureml.contrib.services.aml_response import AMLResponse\n",
    "from toolz import compose\n",
    "import numpy as np\n",
    "from PIL import Image, ImageOps\n",
    "\n",
    "_NUMBER_RESULTS = 3\n",
    "\n",
    "\n",
    "def init():\n",
    "    \"\"\" Initialise the model and scoring function\n",
    "    \"\"\"\n",
    "    global model\n",
    "    dir = \".\"\n",
    "    if os.getenv('AZUREML_MODEL_DIR'):\n",
    "        dir = os.getenv('AZUREML_MODEL_DIR')\n",
    "\n",
    "    assert os.path.isfile(dir + \"/model.pkl\")\n",
    "\n",
    "    model = ResNet152()\n",
    "    model.load_weights(dir + \"/model.pkl\")\n",
    "\n",
    "@rawhttp\n",
    "def run(request):\n",
    "    \"\"\" Make a prediction based on the data passed in using the preloaded model\n",
    "    \"\"\"\n",
    "    if request.method == 'POST':\n",
    "        \"\"\" Classify the input using the loaded model\n",
    "        \"\"\"\n",
    "        #preprocess\n",
    "        transform_input = compose(_pil_to_numpy, _image_ref_to_pil_image)\n",
    "        transformed_dict = {key: transform_input(img_ref) for key, img_ref in request.files.items()}\n",
    "        img_array = preprocess_input(np.stack(list(transformed_dict.values())))\n",
    "        \n",
    "        preds = model.predict(img_array)        \n",
    "        \n",
    "        # Postprocess\n",
    "        # nverting predictions to float64 since we are able to serialize float64 but not float32\n",
    "        preds = decode_predictions(preds.astype(np.float64), top=_NUMBER_RESULTS)\n",
    "        return dict(zip(transformed_dict.keys(), preds))\n",
    "\n",
    "    if request.method == 'GET':\n",
    "        return {\"azEnvironment\": \"Azure\"}\n",
    "    return AMLResponse(\"bad request\", 500)\n",
    "\n",
    "                    \n",
    "def _image_ref_to_pil_image(image_ref):\n",
    "    \"\"\" Load image with PIL (RGB)\n",
    "    \"\"\"\n",
    "    return Image.open(image_ref).convert(\"RGB\")\n",
    "\n",
    "\n",
    "def _pil_to_numpy(pil_image):\n",
    "    img = ImageOps.fit(pil_image, (224, 224), Image.ANTIALIAS)\n",
    "    img = image.img_to_array(img)\n",
    "    return img\n"
   ]
  },
  {
   "cell_type": "code",
   "execution_count": null,
   "metadata": {},
   "outputs": [],
   "source": [
    "from azure_utils.machine_learning.ai_workspace import  DeepRealtimeScore\n",
    "\n",
    "deep_ws, aks_service = DeepRealtimeScore.get_or_or_create(configuration_file=project_configuration,\n",
    "                                   train_py=\"train_dl.py\", \n",
    "                                   score_py=\"score_dl.py\")"
   ]
  },
  {
   "cell_type": "markdown",
   "metadata": {
    "pycharm": {
     "name": "#%% md\n"
    }
   },
   "source": [
    "## Deploy Services\n",
    "### Machine Learning Studio\n",
    "![ML Studio](https://raw.githubusercontent.com/microsoft/AI-Utilities/master/docs/studio.png)\n",
    "\n",
    "### Kubernetes\n",
    "\n",
    "![Kubernetes](https://raw.githubusercontent.com/microsoft/AI-Utilities/master/docs/kubernetes.png)\n",
    "\n",
    "### Application Insights \n",
    "\n",
    "#### Main\n",
    "![App Insights](https://raw.githubusercontent.com/microsoft/AI-Utilities/master/docs/app_insights_1.png)\n",
    "#### Availability\n",
    "![App Insights](https://raw.githubusercontent.com/microsoft/AI-Utilities/master/docs/app_insights_availability.png)\n",
    "#### Performance Dashboard\n",
    "![App Insights](https://raw.githubusercontent.com/microsoft/AI-Utilities/master/docs/app_insights_perf_dash.png)\n",
    "#### Load Test\n",
    "![App Insights](https://raw.githubusercontent.com/microsoft/AI-Utilities/master/docs/app_insights_perf.png)"
   ]
  }
 ],
 "metadata": {
  "celltoolbar": "Raw Cell Format",
  "kernelspec": {
   "display_name": "ai-utilities",
   "language": "python",
   "name": "ai-utilities"
  },
  "language_info": {
   "codemirror_mode": {
    "name": "ipython",
    "version": 3
   },
   "file_extension": ".py",
   "mimetype": "text/x-python",
   "name": "python",
   "nbconvert_exporter": "python",
   "pygments_lexer": "ipython3",
   "version": "3.6.2"
  },
  "pycharm": {
   "stem_cell": {
    "cell_type": "raw",
    "metadata": {
     "collapsed": false
    },
    "source": []
   }
  },
  "toc": {
   "base_numbering": 1,
   "nav_menu": {},
   "number_sections": false,
   "sideBar": false,
   "skip_h1_title": false,
   "title_cell": "Table of Contents",
   "title_sidebar": "Contents",
   "toc_cell": true,
   "toc_position": {
    "height": "102px",
    "left": "488px",
    "top": "187px",
    "width": "304px"
   },
   "toc_section_display": true,
   "toc_window_display": false
  },
  "widgets": {
   "application/vnd.jupyter.widget-state+json": {
    "state": {
     "0069d05482fa4f50a06ebf1b2c945eb9": {
      "model_module": "@jupyter-widgets/base",
      "model_module_version": "1.2.0",
      "model_name": "LayoutModel",
      "state": {}
     },
     "0095b9e118e244aeae5c462dd0e05041": {
      "model_module": "@jupyter-widgets/controls",
      "model_module_version": "1.5.0",
      "model_name": "DescriptionStyleModel",
      "state": {
       "description_width": ""
      }
     },
     "00c17bb7d7d64782be1e076a743bdd6e": {
      "model_module": "@jupyter-widgets/controls",
      "model_module_version": "1.5.0",
      "model_name": "FileUploadModel",
      "state": {
       "accept": ".yml",
       "description_tooltip": null,
       "layout": "IPY_MODEL_fb908a6a1d5d4b7e8ba2da6adc81061b",
       "style": "IPY_MODEL_8243229a2be84262b8341a7908e2d1f3"
      }
     },
     "00e9ee5a64b340b7859edcaffa52713b": {
      "model_module": "@jupyter-widgets/controls",
      "model_module_version": "1.5.0",
      "model_name": "DescriptionStyleModel",
      "state": {
       "description_width": ""
      }
     },
     "01521de7f5df4e1c8a7a28f6d93a7f6b": {
      "model_module": "@jupyter-widgets/controls",
      "model_module_version": "1.5.0",
      "model_name": "DescriptionStyleModel",
      "state": {
       "description_width": ""
      }
     },
     "020a497b806c4ca89966dd786dc60f17": {
      "model_module": "@jupyter-widgets/controls",
      "model_module_version": "1.5.0",
      "model_name": "DescriptionStyleModel",
      "state": {
       "description_width": ""
      }
     },
     "0282baace48d46cc86f77a3ec4bdbef0": {
      "model_module": "@jupyter-widgets/controls",
      "model_module_version": "1.5.0",
      "model_name": "DescriptionStyleModel",
      "state": {
       "description_width": ""
      }
     },
     "033a3716a7ba4f2bb0c07eb8ee88bb38": {
      "model_module": "@jupyter-widgets/controls",
      "model_module_version": "1.5.0",
      "model_name": "TextModel",
      "state": {
       "description": "script",
       "layout": "IPY_MODEL_dac9cab8ddb54a24876f16aac3accfce",
       "placeholder": "cpu cores for web service",
       "style": "IPY_MODEL_35bc1a764aa847809cb1b498995eb0f3",
       "value": "create_model.py"
      }
     },
     "03867ec4c770478ebabfda10eae0f05d": {
      "model_module": "@jupyter-widgets/base",
      "model_module_version": "1.2.0",
      "model_name": "LayoutModel",
      "state": {}
     },
     "042a7ac735d941ecb84d9356bf1c1fa3": {
      "model_module": "@jupyter-widgets/base",
      "model_module_version": "1.2.0",
      "model_name": "LayoutModel",
      "state": {}
     },
     "06d9d936620947d795534d59db3e759e": {
      "model_module": "@jupyter-widgets/controls",
      "model_module_version": "1.5.0",
      "model_name": "TextModel",
      "state": {
       "description": "subscription_id",
       "layout": "IPY_MODEL_2c6f9524e7df46288c210bbef3029a63",
       "placeholder": "Azure Subscription Id",
       "style": "IPY_MODEL_f90405b9904642328a23cc90815dfb9a"
      }
     },
     "071c0a14c83b401f96c7522a7ee1716d": {
      "model_module": "@jupyter-widgets/controls",
      "model_module_version": "1.5.0",
      "model_name": "TextModel",
      "state": {
       "description": "image_name",
       "layout": "IPY_MODEL_c8d32c191dc64793963073af5506c048",
       "placeholder": "Docker Container Image Name",
       "style": "IPY_MODEL_0282baace48d46cc86f77a3ec4bdbef0"
      }
     },
     "0a60ab5050744018b6201f44b93be27f": {
      "model_module": "@jupyter-widgets/controls",
      "model_module_version": "1.5.0",
      "model_name": "ButtonStyleModel",
      "state": {}
     },
     "0b31b025e814430387d925aca40b3fc7": {
      "model_module": "@jupyter-widgets/controls",
      "model_module_version": "1.5.0",
      "model_name": "TextModel",
      "state": {
       "description": "num_estimators",
       "layout": "IPY_MODEL_8a9da75bd68f4b84948ef2318c9f409f",
       "placeholder": "number of replicas in Kubernetes cluster",
       "style": "IPY_MODEL_43618fe414e449babf5caa13f75f81aa",
       "value": "2"
      }
     },
     "0b487a356ee6450789b93224bf566e77": {
      "model_module": "@jupyter-widgets/controls",
      "model_module_version": "1.5.0",
      "model_name": "ButtonStyleModel",
      "state": {}
     },
     "0b5c5e18eccc4fb080fb5db88479216e": {
      "model_module": "@jupyter-widgets/base",
      "model_module_version": "1.2.0",
      "model_name": "LayoutModel",
      "state": {}
     },
     "0d179472abed451eafbf2394e59ecf29": {
      "model_module": "@jupyter-widgets/controls",
      "model_module_version": "1.5.0",
      "model_name": "ButtonStyleModel",
      "state": {}
     },
     "0ded2d3cf60a48ed999cd7f3b32b7199": {
      "model_module": "@jupyter-widgets/base",
      "model_module_version": "1.2.0",
      "model_name": "LayoutModel",
      "state": {}
     },
     "0f196acd9883444cbde8f3448a031f99": {
      "model_module": "@jupyter-widgets/base",
      "model_module_version": "1.2.0",
      "model_name": "LayoutModel",
      "state": {}
     },
     "1212b41677c74d8499528c35aa1ddcf0": {
      "model_module": "@jupyter-widgets/controls",
      "model_module_version": "1.5.0",
      "model_name": "DescriptionStyleModel",
      "state": {
       "description_width": ""
      }
     },
     "12956580ec2745afbfd20af7a2952519": {
      "model_module": "@jupyter-widgets/controls",
      "model_module_version": "1.5.0",
      "model_name": "ButtonStyleModel",
      "state": {}
     },
     "144f8b457e784c418505a0d27c76a2ac": {
      "model_module": "@jupyter-widgets/controls",
      "model_module_version": "1.5.0",
      "model_name": "DescriptionStyleModel",
      "state": {
       "description_width": ""
      }
     },
     "151bba921c794756af172122e85bdca8": {
      "model_module": "@jupyter-widgets/controls",
      "model_module_version": "1.5.0",
      "model_name": "DescriptionStyleModel",
      "state": {
       "description_width": ""
      }
     },
     "1549024dc58e4447bc407197cb5a8523": {
      "model_module": "@jupyter-widgets/base",
      "model_module_version": "1.2.0",
      "model_name": "LayoutModel",
      "state": {}
     },
     "171e081e17074ab58861b50eae1ff32a": {
      "model_module": "@jupyter-widgets/controls",
      "model_module_version": "1.5.0",
      "model_name": "DescriptionStyleModel",
      "state": {
       "description_width": ""
      }
     },
     "179048b595c549a9b4ac2b9fc49bc3a0": {
      "model_module": "@jupyter-widgets/base",
      "model_module_version": "1.2.0",
      "model_name": "LayoutModel",
      "state": {}
     },
     "17f76d0ed8ed44dd82a96e65e6c59b34": {
      "model_module": "@jupyter-widgets/controls",
      "model_module_version": "1.5.0",
      "model_name": "DescriptionStyleModel",
      "state": {
       "description_width": ""
      }
     },
     "18202f05bc9c4192b1e575287633a7bb": {
      "model_module": "@jupyter-widgets/controls",
      "model_module_version": "1.5.0",
      "model_name": "TextModel",
      "state": {
       "description": "num_replicas",
       "layout": "IPY_MODEL_2e7c260921b94c0180b5e56a0f82418d",
       "placeholder": "number of replicas in Kubernetes cluster",
       "style": "IPY_MODEL_cf1d6df7c7c949edad57d1e934c90949",
       "value": "2"
      }
     },
     "19789daaabc74802a7e12e81da88ed95": {
      "model_module": "@jupyter-widgets/output",
      "model_module_version": "1.0.0",
      "model_name": "OutputModel",
      "state": {
       "layout": "IPY_MODEL_5ec7edb5743041d9992325fc8ddcd8c8"
      }
     },
     "19944c01b2bb409782865a4210b559d5": {
      "model_module": "@jupyter-widgets/base",
      "model_module_version": "1.2.0",
      "model_name": "LayoutModel",
      "state": {}
     },
     "19a70770bc5e40abbec54d6a6e960a08": {
      "model_module": "@jupyter-widgets/base",
      "model_module_version": "1.2.0",
      "model_name": "LayoutModel",
      "state": {}
     },
     "1d5e7bc24bb14485901d6892cdc5075e": {
      "model_module": "@jupyter-widgets/controls",
      "model_module_version": "1.5.0",
      "model_name": "DescriptionStyleModel",
      "state": {
       "description_width": ""
      }
     },
     "1e82a4aafa9a431ca1621f0994324ee5": {
      "model_module": "@jupyter-widgets/controls",
      "model_module_version": "1.5.0",
      "model_name": "TextModel",
      "state": {
       "description": "node_count",
       "layout": "IPY_MODEL_827177cd6f5d44338ecbc916770d5d1c",
       "placeholder": "number of nodes in Kubernetes cluster",
       "style": "IPY_MODEL_171e081e17074ab58861b50eae1ff32a",
       "value": "4"
      }
     },
     "1f18100427164b87b49a3b9ba19ceab7": {
      "model_module": "@jupyter-widgets/controls",
      "model_module_version": "1.5.0",
      "model_name": "TextModel",
      "state": {
       "description": "aks_name",
       "layout": "IPY_MODEL_3c5bbfd544c342c9ad71a13839beedd7",
       "placeholder": "AKS Cluster Name",
       "style": "IPY_MODEL_64a142ef178146f99462e668ab892821"
      }
     },
     "1f423e4a93b2473393f0a91123aa6a9d": {
      "model_module": "@jupyter-widgets/controls",
      "model_module_version": "1.5.0",
      "model_name": "DescriptionStyleModel",
      "state": {
       "description_width": ""
      }
     },
     "1fa2bd3185ae43e0a2eb85c9a9f4c272": {
      "model_module": "@jupyter-widgets/base",
      "model_module_version": "1.2.0",
      "model_name": "LayoutModel",
      "state": {}
     },
     "207eca5cc8b840b4ab9674d0bb8e611b": {
      "model_module": "@jupyter-widgets/base",
      "model_module_version": "1.2.0",
      "model_name": "LayoutModel",
      "state": {}
     },
     "21b95876dae54b5fa618783ea037ae9e": {
      "model_module": "@jupyter-widgets/controls",
      "model_module_version": "1.5.0",
      "model_name": "DescriptionStyleModel",
      "state": {
       "description_width": ""
      }
     },
     "21f2f14e858c47bd87b40128c1916dc0": {
      "model_module": "@jupyter-widgets/base",
      "model_module_version": "1.2.0",
      "model_name": "LayoutModel",
      "state": {}
     },
     "22654013dc4d4b7384d8a948448d9540": {
      "model_module": "@jupyter-widgets/base",
      "model_module_version": "1.2.0",
      "model_name": "LayoutModel",
      "state": {}
     },
     "2371fdaf0f054ae4bad7d495b22941ab": {
      "model_module": "@jupyter-widgets/controls",
      "model_module_version": "1.5.0",
      "model_name": "DescriptionStyleModel",
      "state": {
       "description_width": ""
      }
     },
     "23b91fbbd85145308700daad9739e3dc": {
      "model_module": "@jupyter-widgets/controls",
      "model_module_version": "1.5.0",
      "model_name": "DescriptionStyleModel",
      "state": {
       "description_width": ""
      }
     },
     "25ba64cade7a461bbbb277a5e2b4a4ad": {
      "model_module": "@jupyter-widgets/controls",
      "model_module_version": "1.5.0",
      "model_name": "DescriptionStyleModel",
      "state": {
       "description_width": ""
      }
     },
     "2680d93109b44e468a2df1fafe22cf85": {
      "model_module": "@jupyter-widgets/controls",
      "model_module_version": "1.5.0",
      "model_name": "TextModel",
      "state": {
       "description": "vm_size",
       "layout": "IPY_MODEL_d26ac1ecddc54c9998b56ff128d66faf",
       "placeholder": "skew of vms in Kubernetes cluster",
       "style": "IPY_MODEL_64f3734ed7e440b5966248ccae7bf598",
       "value": "Standard_D4_v2"
      }
     },
     "274d975d7def4a6190e5aa03bca5c911": {
      "model_module": "@jupyter-widgets/base",
      "model_module_version": "1.2.0",
      "model_name": "LayoutModel",
      "state": {}
     },
     "276537797a6e476894d7eef6bd24bdbb": {
      "model_module": "@jupyter-widgets/base",
      "model_module_version": "1.2.0",
      "model_name": "LayoutModel",
      "state": {}
     },
     "2ad0c662891d435796362b288446d22d": {
      "model_module": "@jupyter-widgets/controls",
      "model_module_version": "1.5.0",
      "model_name": "TextModel",
      "state": {
       "description": "script",
       "layout": "IPY_MODEL_979cace35c81490fa53bf94911ab470a",
       "placeholder": "cpu cores for web service",
       "style": "IPY_MODEL_00e9ee5a64b340b7859edcaffa52713b",
       "value": "create_model.py"
      }
     },
     "2b4d995c5724449ca2f10fae1717b54e": {
      "model_module": "@jupyter-widgets/controls",
      "model_module_version": "1.5.0",
      "model_name": "DescriptionStyleModel",
      "state": {
       "description_width": ""
      }
     },
     "2c61deee6d404cf588ea3285db7e52f9": {
      "model_module": "@jupyter-widgets/controls",
      "model_module_version": "1.5.0",
      "model_name": "DescriptionStyleModel",
      "state": {
       "description_width": ""
      }
     },
     "2c6f9524e7df46288c210bbef3029a63": {
      "model_module": "@jupyter-widgets/base",
      "model_module_version": "1.2.0",
      "model_name": "LayoutModel",
      "state": {}
     },
     "2e4dfdd136254aca919ab89292a5f4ff": {
      "model_module": "@jupyter-widgets/controls",
      "model_module_version": "1.5.0",
      "model_name": "ButtonStyleModel",
      "state": {}
     },
     "2e7c260921b94c0180b5e56a0f82418d": {
      "model_module": "@jupyter-widgets/base",
      "model_module_version": "1.2.0",
      "model_name": "LayoutModel",
      "state": {}
     },
     "3008f3c85e9a47bb8e4724279b5ccc71": {
      "model_module": "@jupyter-widgets/controls",
      "model_module_version": "1.5.0",
      "model_name": "DescriptionStyleModel",
      "state": {
       "description_width": ""
      }
     },
     "312348777611420cb808c304209f9f8b": {
      "model_module": "@jupyter-widgets/controls",
      "model_module_version": "1.5.0",
      "model_name": "TextModel",
      "state": {
       "description": "RG ID:",
       "layout": "IPY_MODEL_ac63e0ec80a34766a69941443ce91da4",
       "placeholder": "azure-resource-group-name",
       "style": "IPY_MODEL_4fcebd030db44c47a288e66d9e4a29fa",
       "value": "<>"
      }
     },
     "35bc1a764aa847809cb1b498995eb0f3": {
      "model_module": "@jupyter-widgets/controls",
      "model_module_version": "1.5.0",
      "model_name": "DescriptionStyleModel",
      "state": {
       "description_width": ""
      }
     },
     "366a77f1fa1c4ae9bf802e81e8f3a53a": {
      "model_module": "@jupyter-widgets/controls",
      "model_module_version": "1.5.0",
      "model_name": "VBoxModel",
      "state": {
       "children": [
        "IPY_MODEL_19789daaabc74802a7e12e81da88ed95",
        "IPY_MODEL_f1f89cd0513e4a6c80b442b657b19873",
        "IPY_MODEL_3caf1c2c0ed149c3a43c743eebd58853",
        "IPY_MODEL_943531e6081f4d8b82dd7769e6d7bf8e",
        "IPY_MODEL_d553a52231e74672bca7403cbf5ec1e1",
        "IPY_MODEL_636d989a65e648b9925729f136f344da",
        "IPY_MODEL_f1b69b8cb0f6497cbc712247beca3b1d",
        "IPY_MODEL_b1fa6c023d4b4fa994e0c7213ad5d14f",
        "IPY_MODEL_d115b0c0aabe4fa59c6a9753f5ca8b54",
        "IPY_MODEL_8867d74c441f428aa25219bef570b75b",
        "IPY_MODEL_88f256ef289948b08a27a355a669427b",
        "IPY_MODEL_c41823c2f79843839b8870636e00c747",
        "IPY_MODEL_da7dfdd715274805900a98a14cd2160c",
        "IPY_MODEL_507f5d81cdd4462e8e6cd277722f6bb5",
        "IPY_MODEL_868841ca882442ecaf9449fd73930f8b",
        "IPY_MODEL_a46fc689f2164516b75fa716965516fa",
        "IPY_MODEL_f4f87d45be174b4382d1459266b7a56c",
        "IPY_MODEL_2ad0c662891d435796362b288446d22d",
        "IPY_MODEL_f7fec581f34441e885eb8e2f9bc60d42"
       ],
       "layout": "IPY_MODEL_a84d604baa074cd7a2bff40d3ba0ab86"
      }
     },
     "3770e5d840074b81b2b24870c14411d3": {
      "model_module": "@jupyter-widgets/controls",
      "model_module_version": "1.5.0",
      "model_name": "DescriptionStyleModel",
      "state": {
       "description_width": ""
      }
     },
     "38104c1d1a0c4c70a218b529cee32d90": {
      "model_module": "@jupyter-widgets/controls",
      "model_module_version": "1.5.0",
      "model_name": "TextModel",
      "state": {
       "description": "experiment_name",
       "layout": "IPY_MODEL_56a2b6e974be4fc78e40f38bf8aa2fb2",
       "placeholder": "cpu cores for web service",
       "style": "IPY_MODEL_8ac2ff8e97c04eee9d80aaae35ab4dc3",
       "value": "mlaks-train-on-local"
      }
     },
     "3ab97a8edca04f1888bf30d802f939d3": {
      "model_module": "@jupyter-widgets/controls",
      "model_module_version": "1.5.0",
      "model_name": "TextModel",
      "state": {
       "description": "script",
       "layout": "IPY_MODEL_ad19f06328d34b71b4894bd31798aaaa",
       "placeholder": "cpu cores for web service",
       "style": "IPY_MODEL_81bc58c518d44373abd09babdbfd1209",
       "value": "create_model.py"
      }
     },
     "3baf08dac04448f9a2729ab97b0ca11c": {
      "model_module": "@jupyter-widgets/controls",
      "model_module_version": "1.5.0",
      "model_name": "TextModel",
      "state": {
       "description": "subscription_id",
       "layout": "IPY_MODEL_de5d1bed4fa34141964f8c649a44e94c",
       "placeholder": "Azure Subscription Id",
       "style": "IPY_MODEL_6eb39f3b89dd4918b7606b2bba2aefc4"
      }
     },
     "3c5bbfd544c342c9ad71a13839beedd7": {
      "model_module": "@jupyter-widgets/base",
      "model_module_version": "1.2.0",
      "model_name": "LayoutModel",
      "state": {}
     },
     "3c80d179f7584f1c8eba8607da50be69": {
      "model_module": "@jupyter-widgets/controls",
      "model_module_version": "1.5.0",
      "model_name": "DescriptionStyleModel",
      "state": {
       "description_width": ""
      }
     },
     "3c8af73d8c8c4730b20d81c538d75599": {
      "model_module": "@jupyter-widgets/base",
      "model_module_version": "1.2.0",
      "model_name": "LayoutModel",
      "state": {}
     },
     "3caf1c2c0ed149c3a43c743eebd58853": {
      "model_module": "@jupyter-widgets/controls",
      "model_module_version": "1.5.0",
      "model_name": "ButtonModel",
      "state": {
       "button_style": "success",
       "description": "Load Upload",
       "icon": "check",
       "layout": "IPY_MODEL_8cb0c26d7673411b83c5fab13f3728ba",
       "style": "IPY_MODEL_52284f9b60fd4b66a1a2771ae1bd591a",
       "tooltip": "Click to save settings to file."
      }
     },
     "3e47f2195db24d389c1f49ee8996ac3e": {
      "model_module": "@jupyter-widgets/base",
      "model_module_version": "1.2.0",
      "model_name": "LayoutModel",
      "state": {}
     },
     "3eff9a0440334492b71640cd5da62e66": {
      "model_module": "@jupyter-widgets/base",
      "model_module_version": "1.2.0",
      "model_name": "LayoutModel",
      "state": {}
     },
     "3f7b3ee71d3f4619be5ec5c1421843f1": {
      "model_module": "@jupyter-widgets/base",
      "model_module_version": "1.2.0",
      "model_name": "LayoutModel",
      "state": {}
     },
     "406d33d5402d4d87bdfcb66edaf1b05e": {
      "model_module": "@jupyter-widgets/base",
      "model_module_version": "1.2.0",
      "model_name": "LayoutModel",
      "state": {}
     },
     "40bce764d1f54b0ab09059d76d1a0176": {
      "model_module": "@jupyter-widgets/base",
      "model_module_version": "1.2.0",
      "model_name": "LayoutModel",
      "state": {}
     },
     "43618fe414e449babf5caa13f75f81aa": {
      "model_module": "@jupyter-widgets/controls",
      "model_module_version": "1.5.0",
      "model_name": "DescriptionStyleModel",
      "state": {
       "description_width": ""
      }
     },
     "448062212edf4551a6c22021fd05ffd2": {
      "model_module": "@jupyter-widgets/controls",
      "model_module_version": "1.5.0",
      "model_name": "DescriptionStyleModel",
      "state": {
       "description_width": ""
      }
     },
     "44a6da833e2c4c19b641550f7d416fa3": {
      "model_module": "@jupyter-widgets/controls",
      "model_module_version": "1.5.0",
      "model_name": "DescriptionStyleModel",
      "state": {
       "description_width": ""
      }
     },
     "44e4dfb42c5e435cbaf046f2b0f1241f": {
      "model_module": "@jupyter-widgets/controls",
      "model_module_version": "1.5.0",
      "model_name": "DescriptionStyleModel",
      "state": {
       "description_width": ""
      }
     },
     "472c150fcd3046eab9a019b26ed5569a": {
      "model_module": "@jupyter-widgets/base",
      "model_module_version": "1.2.0",
      "model_name": "LayoutModel",
      "state": {}
     },
     "486d449d84a64af09a4fa1408e3984bf": {
      "model_module": "@jupyter-widgets/base",
      "model_module_version": "1.2.0",
      "model_name": "LayoutModel",
      "state": {}
     },
     "49b3f6e6cf334f04b033ac8b1f26c8e4": {
      "model_module": "@jupyter-widgets/controls",
      "model_module_version": "1.5.0",
      "model_name": "VBoxModel",
      "state": {
       "children": [
        "IPY_MODEL_7f6cd4a8b321464290a8637a4b7d15fe",
        "IPY_MODEL_51ec0e0b220c48b0aea810b819cc71eb",
        "IPY_MODEL_ac9dfbef53da4ec69b7c61e37c05e7fc",
        "IPY_MODEL_06d9d936620947d795534d59db3e759e",
        "IPY_MODEL_d216cdd7d7de470a9bce3d92d49e3347",
        "IPY_MODEL_6fd81114f73c4dceb6de9cb26f743d43",
        "IPY_MODEL_621ced9c496c4e9f8a04431dfaa0abc0",
        "IPY_MODEL_8fa6b89addab4c05873cfece256c68b7",
        "IPY_MODEL_89b3c04caac44415bdde21c43d63c491",
        "IPY_MODEL_944976d6b9564e9095172b80501854c7",
        "IPY_MODEL_aa9d688218e7407fa4f5222826d15ec0",
        "IPY_MODEL_2680d93109b44e468a2df1fafe22cf85",
        "IPY_MODEL_1e82a4aafa9a431ca1621f0994324ee5",
        "IPY_MODEL_bed4f2b568bc4aa6abb6569aee1140de",
        "IPY_MODEL_657109cc510742289831ce92c7b62732",
        "IPY_MODEL_9569ce0c779d4f938031bead39f383a6",
        "IPY_MODEL_38104c1d1a0c4c70a218b529cee32d90",
        "IPY_MODEL_ec57279fb85d47f5a48017979a350437",
        "IPY_MODEL_7c57c1b3287b4b529cfdc2dfc2e6ff9d"
       ],
       "layout": "IPY_MODEL_5a9bd2718fb14b37907b319c9f29f4ca"
      }
     },
     "4a1c4af2c7b14b4aae9e397202de5b86": {
      "model_module": "@jupyter-widgets/controls",
      "model_module_version": "1.5.0",
      "model_name": "TextModel",
      "state": {
       "description": "Sub ID:",
       "layout": "IPY_MODEL_dac3322277164cd6827cb019373eb9d1",
       "placeholder": "xxxx-xxxx-xxxx-xxxx-xxxx",
       "style": "IPY_MODEL_67e361145b354eb0bdeede564aeaa7ff",
       "value": "<>"
      }
     },
     "4a70db5f00f44aa9906d7dd20bc395e7": {
      "model_module": "@jupyter-widgets/base",
      "model_module_version": "1.2.0",
      "model_name": "LayoutModel",
      "state": {}
     },
     "4b7084fb027b4b12ae99df8e7e06e04f": {
      "model_module": "@jupyter-widgets/controls",
      "model_module_version": "1.5.0",
      "model_name": "TextModel",
      "state": {
       "description": "RG ID:",
       "layout": "IPY_MODEL_e3d1f187500d4c0eb78613a3d9608d67",
       "placeholder": "azure-resource-group-name",
       "style": "IPY_MODEL_8d92c14811f340bab3598f8cbefdb867",
       "value": "<>"
      }
     },
     "4db0f9ffdf6f438c9f37ad2bbfa3665f": {
      "model_module": "@jupyter-widgets/controls",
      "model_module_version": "1.5.0",
      "model_name": "TextModel",
      "state": {
       "description": "resource_group",
       "layout": "IPY_MODEL_e507a279447f4a31ad215a0a96390489",
       "placeholder": "Azure Resource Group Name",
       "style": "IPY_MODEL_cc4b5b9bd8a04d9781e23be2b9bc99aa"
      }
     },
     "4e07609085734881977aa7c0bebafa12": {
      "model_module": "@jupyter-widgets/base",
      "model_module_version": "1.2.0",
      "model_name": "LayoutModel",
      "state": {}
     },
     "4e7a51127d5c4a718d1c2e7fefe33acb": {
      "model_module": "@jupyter-widgets/controls",
      "model_module_version": "1.5.0",
      "model_name": "ButtonStyleModel",
      "state": {}
     },
     "4fcebd030db44c47a288e66d9e4a29fa": {
      "model_module": "@jupyter-widgets/controls",
      "model_module_version": "1.5.0",
      "model_name": "DescriptionStyleModel",
      "state": {
       "description_width": ""
      }
     },
     "4fd283b8560f455d9d122a0eaad76e0b": {
      "model_module": "@jupyter-widgets/base",
      "model_module_version": "1.2.0",
      "model_name": "LayoutModel",
      "state": {}
     },
     "503cb33d66c8413fa4acba6ed63c6432": {
      "model_module": "@jupyter-widgets/controls",
      "model_module_version": "1.5.0",
      "model_name": "DescriptionStyleModel",
      "state": {
       "description_width": ""
      }
     },
     "507f5d81cdd4462e8e6cd277722f6bb5": {
      "model_module": "@jupyter-widgets/controls",
      "model_module_version": "1.5.0",
      "model_name": "TextModel",
      "state": {
       "description": "num_replicas",
       "layout": "IPY_MODEL_ae45e01c3001445aa74a6390fc3b00d2",
       "placeholder": "number of replicas in Kubernetes cluster",
       "style": "IPY_MODEL_9bfc6a8229b3442b8f98bd57549c3eb6",
       "value": "2"
      }
     },
     "51085a66ba2b4c9d9aac322f2d2983b8": {
      "model_module": "@jupyter-widgets/controls",
      "model_module_version": "1.5.0",
      "model_name": "DescriptionStyleModel",
      "state": {
       "description_width": ""
      }
     },
     "51ec0e0b220c48b0aea810b819cc71eb": {
      "model_module": "@jupyter-widgets/controls",
      "model_module_version": "1.5.0",
      "model_name": "FileUploadModel",
      "state": {
       "accept": ".yml",
       "description_tooltip": null,
       "layout": "IPY_MODEL_be4c1b7fbd3a4eb9bdc648b76db6f6eb",
       "style": "IPY_MODEL_0d179472abed451eafbf2394e59ecf29"
      }
     },
     "52284f9b60fd4b66a1a2771ae1bd591a": {
      "model_module": "@jupyter-widgets/controls",
      "model_module_version": "1.5.0",
      "model_name": "ButtonStyleModel",
      "state": {}
     },
     "5524a53835b34aa78ee34f2035b9d222": {
      "model_module": "@jupyter-widgets/controls",
      "model_module_version": "1.5.0",
      "model_name": "DescriptionStyleModel",
      "state": {
       "description_width": ""
      }
     },
     "56a2b6e974be4fc78e40f38bf8aa2fb2": {
      "model_module": "@jupyter-widgets/base",
      "model_module_version": "1.2.0",
      "model_name": "LayoutModel",
      "state": {}
     },
     "5707f62936894430b4ed6f37f22e8218": {
      "model_module": "@jupyter-widgets/controls",
      "model_module_version": "1.5.0",
      "model_name": "DescriptionStyleModel",
      "state": {
       "description_width": ""
      }
     },
     "57151219c79a4d63b618faa693f3ee72": {
      "model_module": "@jupyter-widgets/base",
      "model_module_version": "1.2.0",
      "model_name": "LayoutModel",
      "state": {}
     },
     "57a78349017a4b5baec0c966310845eb": {
      "model_module": "@jupyter-widgets/controls",
      "model_module_version": "1.5.0",
      "model_name": "DescriptionStyleModel",
      "state": {
       "description_width": ""
      }
     },
     "58332944363f412d95d1588611eed9a2": {
      "model_module": "@jupyter-widgets/base",
      "model_module_version": "1.2.0",
      "model_name": "LayoutModel",
      "state": {}
     },
     "59f40bf6acd245689b4d9a4a224196bc": {
      "model_module": "@jupyter-widgets/controls",
      "model_module_version": "1.5.0",
      "model_name": "TextModel",
      "state": {
       "description": "num_replicas",
       "layout": "IPY_MODEL_486d449d84a64af09a4fa1408e3984bf",
       "placeholder": "number of replicas in Kubernetes cluster",
       "style": "IPY_MODEL_44e4dfb42c5e435cbaf046f2b0f1241f",
       "value": "2"
      }
     },
     "59ffb5657e9b4571a0222fde8a435da0": {
      "model_module": "@jupyter-widgets/controls",
      "model_module_version": "1.5.0",
      "model_name": "TextModel",
      "state": {
       "description": "workspace_region",
       "layout": "IPY_MODEL_b6ed2b238c8f496f8954a34094e4ad15",
       "placeholder": "Azure ML Workspace Region",
       "style": "IPY_MODEL_974b438d88f94d3fb2b8b231f5786ca1"
      }
     },
     "5a9bd2718fb14b37907b319c9f29f4ca": {
      "model_module": "@jupyter-widgets/base",
      "model_module_version": "1.2.0",
      "model_name": "LayoutModel",
      "state": {}
     },
     "5ba6658b760a4eafa6d5e4a775309e84": {
      "model_module": "@jupyter-widgets/base",
      "model_module_version": "1.2.0",
      "model_name": "LayoutModel",
      "state": {}
     },
     "5ec7edb5743041d9992325fc8ddcd8c8": {
      "model_module": "@jupyter-widgets/base",
      "model_module_version": "1.2.0",
      "model_name": "LayoutModel",
      "state": {}
     },
     "5ef9408a036641a3a12632cf4b3d9ba3": {
      "model_module": "@jupyter-widgets/controls",
      "model_module_version": "1.5.0",
      "model_name": "TextModel",
      "state": {
       "description": "workspace_region",
       "layout": "IPY_MODEL_f4a9ae62b7c74eb894059cc3011397fb",
       "placeholder": "Azure ML Workspace Region",
       "style": "IPY_MODEL_aa5559c4d06b426f83e9bb8aa4a2ca6c"
      }
     },
     "5fedc21b773e4990a54167307ad348b3": {
      "model_module": "@jupyter-widgets/controls",
      "model_module_version": "1.5.0",
      "model_name": "TextModel",
      "state": {
       "description": "cpu_cores",
       "layout": "IPY_MODEL_81dc557fb7b84c23a6fdd5b0ddc4cabd",
       "placeholder": "cpu cores for web service",
       "style": "IPY_MODEL_57a78349017a4b5baec0c966310845eb",
       "value": "1"
      }
     },
     "621ced9c496c4e9f8a04431dfaa0abc0": {
      "model_module": "@jupyter-widgets/controls",
      "model_module_version": "1.5.0",
      "model_name": "TextModel",
      "state": {
       "description": "workspace_region",
       "layout": "IPY_MODEL_7d693e247fc342fcb7093959fd49b9c2",
       "placeholder": "Azure ML Workspace Region",
       "style": "IPY_MODEL_2371fdaf0f054ae4bad7d495b22941ab"
      }
     },
     "636d989a65e648b9925729f136f344da": {
      "model_module": "@jupyter-widgets/controls",
      "model_module_version": "1.5.0",
      "model_name": "TextModel",
      "state": {
       "description": "workspace_name",
       "layout": "IPY_MODEL_276537797a6e476894d7eef6bd24bdbb",
       "placeholder": "Azure ML Workspace Name",
       "style": "IPY_MODEL_01521de7f5df4e1c8a7a28f6d93a7f6b"
      }
     },
     "64a142ef178146f99462e668ab892821": {
      "model_module": "@jupyter-widgets/controls",
      "model_module_version": "1.5.0",
      "model_name": "DescriptionStyleModel",
      "state": {
       "description_width": ""
      }
     },
     "64f3734ed7e440b5966248ccae7bf598": {
      "model_module": "@jupyter-widgets/controls",
      "model_module_version": "1.5.0",
      "model_name": "DescriptionStyleModel",
      "state": {
       "description_width": ""
      }
     },
     "657109cc510742289831ce92c7b62732": {
      "model_module": "@jupyter-widgets/controls",
      "model_module_version": "1.5.0",
      "model_name": "TextModel",
      "state": {
       "description": "cpu_cores",
       "layout": "IPY_MODEL_aad80f1ccee341c09bab49bf43c89022",
       "placeholder": "cpu cores for web service",
       "style": "IPY_MODEL_0095b9e118e244aeae5c462dd0e05041",
       "value": "1"
      }
     },
     "66c4ea9b65c34d2c9d20184737269c61": {
      "model_module": "@jupyter-widgets/controls",
      "model_module_version": "1.5.0",
      "model_name": "TextModel",
      "state": {
       "description": "resource_group",
       "layout": "IPY_MODEL_3e47f2195db24d389c1f49ee8996ac3e",
       "placeholder": "Azure Resource Group Name",
       "style": "IPY_MODEL_6ea550eefab34a83b30a8a00fee65239"
      }
     },
     "66fdbf5b4a114f8aa396050ddbb10a84": {
      "model_module": "@jupyter-widgets/controls",
      "model_module_version": "1.5.0",
      "model_name": "DescriptionStyleModel",
      "state": {
       "description_width": ""
      }
     },
     "67e361145b354eb0bdeede564aeaa7ff": {
      "model_module": "@jupyter-widgets/controls",
      "model_module_version": "1.5.0",
      "model_name": "DescriptionStyleModel",
      "state": {
       "description_width": ""
      }
     },
     "6a5a2eced8ff41a783c7be5d128ad00a": {
      "model_module": "@jupyter-widgets/base",
      "model_module_version": "1.2.0",
      "model_name": "LayoutModel",
      "state": {}
     },
     "6b68a7884e4a41998ee603a35323c248": {
      "model_module": "@jupyter-widgets/controls",
      "model_module_version": "1.5.0",
      "model_name": "TextModel",
      "state": {
       "description": "aks_service_name",
       "layout": "IPY_MODEL_d9b9396bdeb94cb7ba3dadc941aa3916",
       "placeholder": "AKS Service Name",
       "style": "IPY_MODEL_f2bdb0e7b8dc4510964de2db2415b115"
      }
     },
     "6c229c9df93343229a9c0c761df6c050": {
      "model_module": "@jupyter-widgets/base",
      "model_module_version": "1.2.0",
      "model_name": "LayoutModel",
      "state": {}
     },
     "6ea550eefab34a83b30a8a00fee65239": {
      "model_module": "@jupyter-widgets/controls",
      "model_module_version": "1.5.0",
      "model_name": "DescriptionStyleModel",
      "state": {
       "description_width": ""
      }
     },
     "6eb39f3b89dd4918b7606b2bba2aefc4": {
      "model_module": "@jupyter-widgets/controls",
      "model_module_version": "1.5.0",
      "model_name": "DescriptionStyleModel",
      "state": {
       "description_width": ""
      }
     },
     "6fd81114f73c4dceb6de9cb26f743d43": {
      "model_module": "@jupyter-widgets/controls",
      "model_module_version": "1.5.0",
      "model_name": "TextModel",
      "state": {
       "description": "workspace_name",
       "layout": "IPY_MODEL_5ba6658b760a4eafa6d5e4a775309e84",
       "placeholder": "Azure ML Workspace Name",
       "style": "IPY_MODEL_e11b7abda8474a89b97daf2b11635799"
      }
     },
     "74af7e016aff4db2ab0986f72a9a1897": {
      "model_module": "@jupyter-widgets/controls",
      "model_module_version": "1.5.0",
      "model_name": "TextModel",
      "state": {
       "description": "aks_location",
       "layout": "IPY_MODEL_03867ec4c770478ebabfda10eae0f05d",
       "placeholder": "AKS Azure Region",
       "style": "IPY_MODEL_51085a66ba2b4c9d9aac322f2d2983b8"
      }
     },
     "7632c76cdff44f7282159880b9a6f003": {
      "model_module": "@jupyter-widgets/controls",
      "model_module_version": "1.5.0",
      "model_name": "ButtonStyleModel",
      "state": {}
     },
     "79ea5c051d7647728ed26a710cb48528": {
      "model_module": "@jupyter-widgets/base",
      "model_module_version": "1.2.0",
      "model_name": "LayoutModel",
      "state": {}
     },
     "7ae643d7428c430bba03649d59466504": {
      "model_module": "@jupyter-widgets/base",
      "model_module_version": "1.2.0",
      "model_name": "LayoutModel",
      "state": {}
     },
     "7c3f8d3fa4d34a62b032bfd3c2eb8b66": {
      "model_module": "@jupyter-widgets/controls",
      "model_module_version": "1.5.0",
      "model_name": "TextModel",
      "state": {
       "description": "node_count",
       "layout": "IPY_MODEL_21f2f14e858c47bd87b40128c1916dc0",
       "placeholder": "number of nodes in Kubernetes cluster",
       "style": "IPY_MODEL_adb6d8dd52a542c79c1e0cae6587a362",
       "value": "4"
      }
     },
     "7c57c1b3287b4b529cfdc2dfc2e6ff9d": {
      "model_module": "@jupyter-widgets/controls",
      "model_module_version": "1.5.0",
      "model_name": "ButtonModel",
      "state": {
       "button_style": "success",
       "description": "Update Settings",
       "icon": "check",
       "layout": "IPY_MODEL_1fa2bd3185ae43e0a2eb85c9a9f4c272",
       "style": "IPY_MODEL_cb7b1a5998124180829872bc6f3f0c1c",
       "tooltip": "Click to save settings to file."
      }
     },
     "7d693e247fc342fcb7093959fd49b9c2": {
      "model_module": "@jupyter-widgets/base",
      "model_module_version": "1.2.0",
      "model_name": "LayoutModel",
      "state": {}
     },
     "7f6cd4a8b321464290a8637a4b7d15fe": {
      "model_module": "@jupyter-widgets/output",
      "model_module_version": "1.0.0",
      "model_name": "OutputModel",
      "state": {
       "layout": "IPY_MODEL_0ded2d3cf60a48ed999cd7f3b32b7199"
      }
     },
     "805b4f2dc59141e6ac7f6920b5e4aebf": {
      "model_module": "@jupyter-widgets/base",
      "model_module_version": "1.2.0",
      "model_name": "LayoutModel",
      "state": {}
     },
     "80e2dafc4c70439b8909ec3745ca1ad4": {
      "model_module": "@jupyter-widgets/controls",
      "model_module_version": "1.5.0",
      "model_name": "TextModel",
      "state": {
       "description": "RG ID:",
       "layout": "IPY_MODEL_042a7ac735d941ecb84d9356bf1c1fa3",
       "placeholder": "azure-resource-group-name",
       "style": "IPY_MODEL_da68f25cc7d64bce923df2360a63dedb",
       "value": "<>"
      }
     },
     "81bc58c518d44373abd09babdbfd1209": {
      "model_module": "@jupyter-widgets/controls",
      "model_module_version": "1.5.0",
      "model_name": "DescriptionStyleModel",
      "state": {
       "description_width": ""
      }
     },
     "81dc557fb7b84c23a6fdd5b0ddc4cabd": {
      "model_module": "@jupyter-widgets/base",
      "model_module_version": "1.2.0",
      "model_name": "LayoutModel",
      "state": {}
     },
     "8243229a2be84262b8341a7908e2d1f3": {
      "model_module": "@jupyter-widgets/controls",
      "model_module_version": "1.5.0",
      "model_name": "ButtonStyleModel",
      "state": {}
     },
     "827177cd6f5d44338ecbc916770d5d1c": {
      "model_module": "@jupyter-widgets/base",
      "model_module_version": "1.2.0",
      "model_name": "LayoutModel",
      "state": {}
     },
     "868841ca882442ecaf9449fd73930f8b": {
      "model_module": "@jupyter-widgets/controls",
      "model_module_version": "1.5.0",
      "model_name": "TextModel",
      "state": {
       "description": "cpu_cores",
       "layout": "IPY_MODEL_e2e50b5ad5bc4753a222cc0336163c64",
       "placeholder": "cpu cores for web service",
       "style": "IPY_MODEL_9b97b88587464e6eaf8b3685d04c4970",
       "value": "1"
      }
     },
     "8867d74c441f428aa25219bef570b75b": {
      "model_module": "@jupyter-widgets/controls",
      "model_module_version": "1.5.0",
      "model_name": "TextModel",
      "state": {
       "description": "aks_name",
       "layout": "IPY_MODEL_b9b4938b09f94e09bac793aed6bfb0d8",
       "placeholder": "AKS Cluster Name",
       "style": "IPY_MODEL_f04f35b48c854a34bd3ef46da00ad317"
      }
     },
     "88f256ef289948b08a27a355a669427b": {
      "model_module": "@jupyter-widgets/controls",
      "model_module_version": "1.5.0",
      "model_name": "TextModel",
      "state": {
       "description": "aks_location",
       "layout": "IPY_MODEL_4fd283b8560f455d9d122a0eaad76e0b",
       "placeholder": "AKS Azure Region",
       "style": "IPY_MODEL_8ce49c8d5ba944f8970b11ec8712c93a"
      }
     },
     "8963fc26098346a09bc4ca36c8d99d4f": {
      "model_module": "@jupyter-widgets/controls",
      "model_module_version": "1.5.0",
      "model_name": "VBoxModel",
      "state": {
       "children": [
        "IPY_MODEL_e5895330dca44dec80c40b76a2f578fc",
        "IPY_MODEL_00c17bb7d7d64782be1e076a743bdd6e",
        "IPY_MODEL_f35441b28ff74e8088e1504488b116b3",
        "IPY_MODEL_3baf08dac04448f9a2729ab97b0ca11c",
        "IPY_MODEL_66c4ea9b65c34d2c9d20184737269c61",
        "IPY_MODEL_e02c4f4eb6524c76a35c262b947f475f",
        "IPY_MODEL_59ffb5657e9b4571a0222fde8a435da0",
        "IPY_MODEL_071c0a14c83b401f96c7522a7ee1716d",
        "IPY_MODEL_da5bc994a4ee45438375d131b56aa056",
        "IPY_MODEL_1f18100427164b87b49a3b9ba19ceab7",
        "IPY_MODEL_c02289d3168d4bbebafc6f854b65fb27",
        "IPY_MODEL_92f98acfaebf45a2b7c71cd388e4e57f",
        "IPY_MODEL_7c3f8d3fa4d34a62b032bfd3c2eb8b66",
        "IPY_MODEL_18202f05bc9c4192b1e575287633a7bb",
        "IPY_MODEL_5fedc21b773e4990a54167307ad348b3",
        "IPY_MODEL_0b31b025e814430387d925aca40b3fc7",
        "IPY_MODEL_d7698f100fa04ed2b2375934d19f5a2a",
        "IPY_MODEL_3ab97a8edca04f1888bf30d802f939d3",
        "IPY_MODEL_bce44b53a1124508ba99e76ba8fe38ba"
       ],
       "layout": "IPY_MODEL_a20f666b81df4f6190b8e1a3f880e703"
      }
     },
     "89b3c04caac44415bdde21c43d63c491": {
      "model_module": "@jupyter-widgets/controls",
      "model_module_version": "1.5.0",
      "model_name": "TextModel",
      "state": {
       "description": "aks_service_name",
       "layout": "IPY_MODEL_b4e4bec75902496ab36d87b156adaf97",
       "placeholder": "AKS Service Name",
       "style": "IPY_MODEL_2c61deee6d404cf588ea3285db7e52f9"
      }
     },
     "8a9da75bd68f4b84948ef2318c9f409f": {
      "model_module": "@jupyter-widgets/base",
      "model_module_version": "1.2.0",
      "model_name": "LayoutModel",
      "state": {}
     },
     "8ac2ff8e97c04eee9d80aaae35ab4dc3": {
      "model_module": "@jupyter-widgets/controls",
      "model_module_version": "1.5.0",
      "model_name": "DescriptionStyleModel",
      "state": {
       "description_width": ""
      }
     },
     "8ad748f9223c43f39afe6c9e1a5737f7": {
      "model_module": "@jupyter-widgets/controls",
      "model_module_version": "1.5.0",
      "model_name": "TextModel",
      "state": {
       "description": "vm_size",
       "layout": "IPY_MODEL_4e07609085734881977aa7c0bebafa12",
       "placeholder": "skew of vms in Kubernetes cluster",
       "style": "IPY_MODEL_e9053b985f894c7aa4588b7455d47d57",
       "value": "Standard_D4_v2"
      }
     },
     "8bf3f0d2dec6412abaec99b954963309": {
      "model_module": "@jupyter-widgets/controls",
      "model_module_version": "1.5.0",
      "model_name": "ButtonModel",
      "state": {
       "button_style": "success",
       "description": "Update Settings",
       "icon": "check",
       "layout": "IPY_MODEL_b37ffcef62524e05bdf2c87c78894325",
       "style": "IPY_MODEL_adea0c32f9044636bd44e6769aaf1e01",
       "tooltip": "Click to save settings to file."
      }
     },
     "8cb0c26d7673411b83c5fab13f3728ba": {
      "model_module": "@jupyter-widgets/base",
      "model_module_version": "1.2.0",
      "model_name": "LayoutModel",
      "state": {}
     },
     "8ce49c8d5ba944f8970b11ec8712c93a": {
      "model_module": "@jupyter-widgets/controls",
      "model_module_version": "1.5.0",
      "model_name": "DescriptionStyleModel",
      "state": {
       "description_width": ""
      }
     },
     "8d92c14811f340bab3598f8cbefdb867": {
      "model_module": "@jupyter-widgets/controls",
      "model_module_version": "1.5.0",
      "model_name": "DescriptionStyleModel",
      "state": {
       "description_width": ""
      }
     },
     "8fa6b89addab4c05873cfece256c68b7": {
      "model_module": "@jupyter-widgets/controls",
      "model_module_version": "1.5.0",
      "model_name": "TextModel",
      "state": {
       "description": "image_name",
       "layout": "IPY_MODEL_c2e4921c831d44f7af1af57df2fb746e",
       "placeholder": "Docker Container Image Name",
       "style": "IPY_MODEL_c442dd2aaafe4de8b1b51e4acfec9bf6"
      }
     },
     "9291901705634095b07278cb85e4ed84": {
      "model_module": "@jupyter-widgets/controls",
      "model_module_version": "1.5.0",
      "model_name": "DescriptionStyleModel",
      "state": {
       "description_width": ""
      }
     },
     "92f98acfaebf45a2b7c71cd388e4e57f": {
      "model_module": "@jupyter-widgets/controls",
      "model_module_version": "1.5.0",
      "model_name": "TextModel",
      "state": {
       "description": "vm_size",
       "layout": "IPY_MODEL_274d975d7def4a6190e5aa03bca5c911",
       "placeholder": "skew of vms in Kubernetes cluster",
       "style": "IPY_MODEL_b8257a226aa64c97a9f9069f4fc57154",
       "value": "Standard_D4_v2"
      }
     },
     "932ad1e45d43410e9a495a1a7e2dfb4f": {
      "model_module": "@jupyter-widgets/controls",
      "model_module_version": "1.5.0",
      "model_name": "TextModel",
      "state": {
       "description": "image_name",
       "layout": "IPY_MODEL_6a5a2eced8ff41a783c7be5d128ad00a",
       "placeholder": "Docker Container Image Name",
       "style": "IPY_MODEL_9835e026a5a8422aa3940f7aa9d85b78"
      }
     },
     "93e9343c22b64f3191168fa1c9c08884": {
      "model_module": "@jupyter-widgets/controls",
      "model_module_version": "1.5.0",
      "model_name": "TextModel",
      "state": {
       "description": "experiment_name",
       "layout": "IPY_MODEL_805b4f2dc59141e6ac7f6920b5e4aebf",
       "placeholder": "cpu cores for web service",
       "style": "IPY_MODEL_66fdbf5b4a114f8aa396050ddbb10a84",
       "value": "mlaks-train-on-local"
      }
     },
     "941254283086420c8fe9c3afbcbd41e7": {
      "model_module": "@jupyter-widgets/base",
      "model_module_version": "1.2.0",
      "model_name": "LayoutModel",
      "state": {}
     },
     "943531e6081f4d8b82dd7769e6d7bf8e": {
      "model_module": "@jupyter-widgets/controls",
      "model_module_version": "1.5.0",
      "model_name": "TextModel",
      "state": {
       "description": "subscription_id",
       "layout": "IPY_MODEL_952400948c3a42e4927bf926e890c187",
       "placeholder": "Azure Subscription Id",
       "style": "IPY_MODEL_f4883cd3c60d49b6b83841ae1e60ccad"
      }
     },
     "94429830071049c384653000dfc2379b": {
      "model_module": "@jupyter-widgets/controls",
      "model_module_version": "1.5.0",
      "model_name": "FileUploadModel",
      "state": {
       "accept": ".yml",
       "description_tooltip": null,
       "layout": "IPY_MODEL_988ee31b3acc45ed9a680e514431f9d5",
       "style": "IPY_MODEL_12956580ec2745afbfd20af7a2952519"
      }
     },
     "944976d6b9564e9095172b80501854c7": {
      "model_module": "@jupyter-widgets/controls",
      "model_module_version": "1.5.0",
      "model_name": "TextModel",
      "state": {
       "description": "aks_name",
       "layout": "IPY_MODEL_ac85a98765d94269b93608b99523e21b",
       "placeholder": "AKS Cluster Name",
       "style": "IPY_MODEL_2b4d995c5724449ca2f10fae1717b54e"
      }
     },
     "952400948c3a42e4927bf926e890c187": {
      "model_module": "@jupyter-widgets/base",
      "model_module_version": "1.2.0",
      "model_name": "LayoutModel",
      "state": {}
     },
     "9569ce0c779d4f938031bead39f383a6": {
      "model_module": "@jupyter-widgets/controls",
      "model_module_version": "1.5.0",
      "model_name": "TextModel",
      "state": {
       "description": "num_estimators",
       "layout": "IPY_MODEL_e8333c9f6b7f4ab298d010c59d891a5e",
       "placeholder": "number of replicas in Kubernetes cluster",
       "style": "IPY_MODEL_44a6da833e2c4c19b641550f7d416fa3",
       "value": "2"
      }
     },
     "974b438d88f94d3fb2b8b231f5786ca1": {
      "model_module": "@jupyter-widgets/controls",
      "model_module_version": "1.5.0",
      "model_name": "DescriptionStyleModel",
      "state": {
       "description_width": ""
      }
     },
     "979cace35c81490fa53bf94911ab470a": {
      "model_module": "@jupyter-widgets/base",
      "model_module_version": "1.2.0",
      "model_name": "LayoutModel",
      "state": {}
     },
     "9835e026a5a8422aa3940f7aa9d85b78": {
      "model_module": "@jupyter-widgets/controls",
      "model_module_version": "1.5.0",
      "model_name": "DescriptionStyleModel",
      "state": {
       "description_width": ""
      }
     },
     "988ee31b3acc45ed9a680e514431f9d5": {
      "model_module": "@jupyter-widgets/base",
      "model_module_version": "1.2.0",
      "model_name": "LayoutModel",
      "state": {}
     },
     "9b97b88587464e6eaf8b3685d04c4970": {
      "model_module": "@jupyter-widgets/controls",
      "model_module_version": "1.5.0",
      "model_name": "DescriptionStyleModel",
      "state": {
       "description_width": ""
      }
     },
     "9bfc6a8229b3442b8f98bd57549c3eb6": {
      "model_module": "@jupyter-widgets/controls",
      "model_module_version": "1.5.0",
      "model_name": "DescriptionStyleModel",
      "state": {
       "description_width": ""
      }
     },
     "9c6a358a0f1048569ee18d8e494f1c4d": {
      "model_module": "@jupyter-widgets/base",
      "model_module_version": "1.2.0",
      "model_name": "LayoutModel",
      "state": {}
     },
     "9ccea2c117da49908611e5707b7d5164": {
      "model_module": "@jupyter-widgets/base",
      "model_module_version": "1.2.0",
      "model_name": "LayoutModel",
      "state": {}
     },
     "a20f666b81df4f6190b8e1a3f880e703": {
      "model_module": "@jupyter-widgets/base",
      "model_module_version": "1.2.0",
      "model_name": "LayoutModel",
      "state": {}
     },
     "a216fc84c50b46bb98b100d1050bd745": {
      "model_module": "@jupyter-widgets/controls",
      "model_module_version": "1.5.0",
      "model_name": "TextModel",
      "state": {
       "description": "node_count",
       "layout": "IPY_MODEL_d27ac174df1d4480b35aa46b1b4570f4",
       "placeholder": "number of nodes in Kubernetes cluster",
       "style": "IPY_MODEL_a7e4c9136fd64fea890b26c71a8769a3",
       "value": "4"
      }
     },
     "a224fb74365c4150b270959ba26fb51c": {
      "model_module": "@jupyter-widgets/controls",
      "model_module_version": "1.5.0",
      "model_name": "TextModel",
      "state": {
       "description": "num_estimators",
       "layout": "IPY_MODEL_d2b4e49825594e1db43e6a00ec797569",
       "placeholder": "number of replicas in Kubernetes cluster",
       "style": "IPY_MODEL_e6fd982cf7384dbfb7df0bacab1a0ff0",
       "value": "2"
      }
     },
     "a46fc689f2164516b75fa716965516fa": {
      "model_module": "@jupyter-widgets/controls",
      "model_module_version": "1.5.0",
      "model_name": "TextModel",
      "state": {
       "description": "num_estimators",
       "layout": "IPY_MODEL_179048b595c549a9b4ac2b9fc49bc3a0",
       "placeholder": "number of replicas in Kubernetes cluster",
       "style": "IPY_MODEL_1212b41677c74d8499528c35aa1ddcf0",
       "value": "2"
      }
     },
     "a52de8a84cfa4afb86a9a751d197ee35": {
      "model_module": "@jupyter-widgets/controls",
      "model_module_version": "1.5.0",
      "model_name": "VBoxModel",
      "state": {
       "children": [
        "IPY_MODEL_c93d2897af134edcac5ee947d65eb6d2",
        "IPY_MODEL_94429830071049c384653000dfc2379b",
        "IPY_MODEL_d134b7bfc9b84a6c9f83d085d474b9e8",
        "IPY_MODEL_e9037e1f67c64b2e84ddc8d350e4bac2",
        "IPY_MODEL_4db0f9ffdf6f438c9f37ad2bbfa3665f",
        "IPY_MODEL_c4a5558ad3ae4ddca65af52ec6f37164",
        "IPY_MODEL_5ef9408a036641a3a12632cf4b3d9ba3",
        "IPY_MODEL_932ad1e45d43410e9a495a1a7e2dfb4f",
        "IPY_MODEL_6b68a7884e4a41998ee603a35323c248",
        "IPY_MODEL_b3fc6d649f9e4550b5068326099983c2",
        "IPY_MODEL_74af7e016aff4db2ab0986f72a9a1897",
        "IPY_MODEL_8ad748f9223c43f39afe6c9e1a5737f7",
        "IPY_MODEL_a216fc84c50b46bb98b100d1050bd745",
        "IPY_MODEL_59f40bf6acd245689b4d9a4a224196bc",
        "IPY_MODEL_bace810acad64f32b26f5306e52c1dc9",
        "IPY_MODEL_a224fb74365c4150b270959ba26fb51c",
        "IPY_MODEL_93e9343c22b64f3191168fa1c9c08884",
        "IPY_MODEL_033a3716a7ba4f2bb0c07eb8ee88bb38",
        "IPY_MODEL_8bf3f0d2dec6412abaec99b954963309"
       ],
       "layout": "IPY_MODEL_cd293914c84b4fc18b10fe258292b7a9"
      }
     },
     "a7e4c9136fd64fea890b26c71a8769a3": {
      "model_module": "@jupyter-widgets/controls",
      "model_module_version": "1.5.0",
      "model_name": "DescriptionStyleModel",
      "state": {
       "description_width": ""
      }
     },
     "a84d604baa074cd7a2bff40d3ba0ab86": {
      "model_module": "@jupyter-widgets/base",
      "model_module_version": "1.2.0",
      "model_name": "LayoutModel",
      "state": {}
     },
     "aa5559c4d06b426f83e9bb8aa4a2ca6c": {
      "model_module": "@jupyter-widgets/controls",
      "model_module_version": "1.5.0",
      "model_name": "DescriptionStyleModel",
      "state": {
       "description_width": ""
      }
     },
     "aa9d688218e7407fa4f5222826d15ec0": {
      "model_module": "@jupyter-widgets/controls",
      "model_module_version": "1.5.0",
      "model_name": "TextModel",
      "state": {
       "description": "aks_location",
       "layout": "IPY_MODEL_eba6ab8525e54f92b33522276ec442f4",
       "placeholder": "AKS Azure Region",
       "style": "IPY_MODEL_144f8b457e784c418505a0d27c76a2ac"
      }
     },
     "aad80f1ccee341c09bab49bf43c89022": {
      "model_module": "@jupyter-widgets/base",
      "model_module_version": "1.2.0",
      "model_name": "LayoutModel",
      "state": {}
     },
     "ac29f28c2423457ebba107d4c19ea22e": {
      "model_module": "@jupyter-widgets/controls",
      "model_module_version": "1.5.0",
      "model_name": "DescriptionStyleModel",
      "state": {
       "description_width": ""
      }
     },
     "ac63e0ec80a34766a69941443ce91da4": {
      "model_module": "@jupyter-widgets/base",
      "model_module_version": "1.2.0",
      "model_name": "LayoutModel",
      "state": {}
     },
     "ac85a98765d94269b93608b99523e21b": {
      "model_module": "@jupyter-widgets/base",
      "model_module_version": "1.2.0",
      "model_name": "LayoutModel",
      "state": {}
     },
     "ac9dfbef53da4ec69b7c61e37c05e7fc": {
      "model_module": "@jupyter-widgets/controls",
      "model_module_version": "1.5.0",
      "model_name": "ButtonModel",
      "state": {
       "button_style": "success",
       "description": "Load Upload",
       "icon": "check",
       "layout": "IPY_MODEL_19a70770bc5e40abbec54d6a6e960a08",
       "style": "IPY_MODEL_0a60ab5050744018b6201f44b93be27f",
       "tooltip": "Click to save settings to file."
      }
     },
     "ad19f06328d34b71b4894bd31798aaaa": {
      "model_module": "@jupyter-widgets/base",
      "model_module_version": "1.2.0",
      "model_name": "LayoutModel",
      "state": {}
     },
     "adb6d8dd52a542c79c1e0cae6587a362": {
      "model_module": "@jupyter-widgets/controls",
      "model_module_version": "1.5.0",
      "model_name": "DescriptionStyleModel",
      "state": {
       "description_width": ""
      }
     },
     "adea0c32f9044636bd44e6769aaf1e01": {
      "model_module": "@jupyter-widgets/controls",
      "model_module_version": "1.5.0",
      "model_name": "ButtonStyleModel",
      "state": {}
     },
     "ae45e01c3001445aa74a6390fc3b00d2": {
      "model_module": "@jupyter-widgets/base",
      "model_module_version": "1.2.0",
      "model_name": "LayoutModel",
      "state": {}
     },
     "b1fa6c023d4b4fa994e0c7213ad5d14f": {
      "model_module": "@jupyter-widgets/controls",
      "model_module_version": "1.5.0",
      "model_name": "TextModel",
      "state": {
       "description": "image_name",
       "layout": "IPY_MODEL_19944c01b2bb409782865a4210b559d5",
       "placeholder": "Docker Container Image Name",
       "style": "IPY_MODEL_23b91fbbd85145308700daad9739e3dc"
      }
     },
     "b37ffcef62524e05bdf2c87c78894325": {
      "model_module": "@jupyter-widgets/base",
      "model_module_version": "1.2.0",
      "model_name": "LayoutModel",
      "state": {}
     },
     "b3fc6d649f9e4550b5068326099983c2": {
      "model_module": "@jupyter-widgets/controls",
      "model_module_version": "1.5.0",
      "model_name": "TextModel",
      "state": {
       "description": "aks_name",
       "layout": "IPY_MODEL_4a70db5f00f44aa9906d7dd20bc395e7",
       "placeholder": "AKS Cluster Name",
       "style": "IPY_MODEL_3770e5d840074b81b2b24870c14411d3"
      }
     },
     "b4e4bec75902496ab36d87b156adaf97": {
      "model_module": "@jupyter-widgets/base",
      "model_module_version": "1.2.0",
      "model_name": "LayoutModel",
      "state": {}
     },
     "b6b79b81d20f4885826ab6a35e93e39e": {
      "model_module": "@jupyter-widgets/base",
      "model_module_version": "1.2.0",
      "model_name": "LayoutModel",
      "state": {}
     },
     "b6ed2b238c8f496f8954a34094e4ad15": {
      "model_module": "@jupyter-widgets/base",
      "model_module_version": "1.2.0",
      "model_name": "LayoutModel",
      "state": {}
     },
     "b6f1b0219ed64fbc850a6081b938d9b3": {
      "model_module": "@jupyter-widgets/base",
      "model_module_version": "1.2.0",
      "model_name": "LayoutModel",
      "state": {}
     },
     "b8257a226aa64c97a9f9069f4fc57154": {
      "model_module": "@jupyter-widgets/controls",
      "model_module_version": "1.5.0",
      "model_name": "DescriptionStyleModel",
      "state": {
       "description_width": ""
      }
     },
     "b9b4938b09f94e09bac793aed6bfb0d8": {
      "model_module": "@jupyter-widgets/base",
      "model_module_version": "1.2.0",
      "model_name": "LayoutModel",
      "state": {}
     },
     "bace810acad64f32b26f5306e52c1dc9": {
      "model_module": "@jupyter-widgets/controls",
      "model_module_version": "1.5.0",
      "model_name": "TextModel",
      "state": {
       "description": "cpu_cores",
       "layout": "IPY_MODEL_3f7b3ee71d3f4619be5ec5c1421843f1",
       "placeholder": "cpu cores for web service",
       "style": "IPY_MODEL_17f76d0ed8ed44dd82a96e65e6c59b34",
       "value": "1"
      }
     },
     "bc765c04e9124807b6bf63717944f9e2": {
      "model_module": "@jupyter-widgets/base",
      "model_module_version": "1.2.0",
      "model_name": "LayoutModel",
      "state": {}
     },
     "bcb7032cf52946e9866d988ab158241a": {
      "model_module": "@jupyter-widgets/controls",
      "model_module_version": "1.5.0",
      "model_name": "TextModel",
      "state": {
       "description": "Sub ID:",
       "layout": "IPY_MODEL_b6f1b0219ed64fbc850a6081b938d9b3",
       "placeholder": "xxxx-xxxx-xxxx-xxxx-xxxx",
       "style": "IPY_MODEL_151bba921c794756af172122e85bdca8",
       "value": "<>"
      }
     },
     "bce44b53a1124508ba99e76ba8fe38ba": {
      "model_module": "@jupyter-widgets/controls",
      "model_module_version": "1.5.0",
      "model_name": "ButtonModel",
      "state": {
       "button_style": "success",
       "description": "Update Settings",
       "icon": "check",
       "layout": "IPY_MODEL_b6b79b81d20f4885826ab6a35e93e39e",
       "style": "IPY_MODEL_0b487a356ee6450789b93224bf566e77",
       "tooltip": "Click to save settings to file."
      }
     },
     "be4c1b7fbd3a4eb9bdc648b76db6f6eb": {
      "model_module": "@jupyter-widgets/base",
      "model_module_version": "1.2.0",
      "model_name": "LayoutModel",
      "state": {}
     },
     "bed4f2b568bc4aa6abb6569aee1140de": {
      "model_module": "@jupyter-widgets/controls",
      "model_module_version": "1.5.0",
      "model_name": "TextModel",
      "state": {
       "description": "num_replicas",
       "layout": "IPY_MODEL_40bce764d1f54b0ab09059d76d1a0176",
       "placeholder": "number of replicas in Kubernetes cluster",
       "style": "IPY_MODEL_f877d11837ec4b21afe7321837287e56",
       "value": "2"
      }
     },
     "c02289d3168d4bbebafc6f854b65fb27": {
      "model_module": "@jupyter-widgets/controls",
      "model_module_version": "1.5.0",
      "model_name": "TextModel",
      "state": {
       "description": "aks_location",
       "layout": "IPY_MODEL_c7a53ce37b9247eeace224166f1d94f1",
       "placeholder": "AKS Azure Region",
       "style": "IPY_MODEL_ac29f28c2423457ebba107d4c19ea22e"
      }
     },
     "c2e4921c831d44f7af1af57df2fb746e": {
      "model_module": "@jupyter-widgets/base",
      "model_module_version": "1.2.0",
      "model_name": "LayoutModel",
      "state": {}
     },
     "c41823c2f79843839b8870636e00c747": {
      "model_module": "@jupyter-widgets/controls",
      "model_module_version": "1.5.0",
      "model_name": "TextModel",
      "state": {
       "description": "vm_size",
       "layout": "IPY_MODEL_79ea5c051d7647728ed26a710cb48528",
       "placeholder": "skew of vms in Kubernetes cluster",
       "style": "IPY_MODEL_020a497b806c4ca89966dd786dc60f17",
       "value": "Standard_D4_v2"
      }
     },
     "c41caaf66034457ea4b3d35dd99690f0": {
      "model_module": "@jupyter-widgets/controls",
      "model_module_version": "1.5.0",
      "model_name": "DescriptionStyleModel",
      "state": {
       "description_width": ""
      }
     },
     "c442dd2aaafe4de8b1b51e4acfec9bf6": {
      "model_module": "@jupyter-widgets/controls",
      "model_module_version": "1.5.0",
      "model_name": "DescriptionStyleModel",
      "state": {
       "description_width": ""
      }
     },
     "c4a5558ad3ae4ddca65af52ec6f37164": {
      "model_module": "@jupyter-widgets/controls",
      "model_module_version": "1.5.0",
      "model_name": "TextModel",
      "state": {
       "description": "workspace_name",
       "layout": "IPY_MODEL_9ccea2c117da49908611e5707b7d5164",
       "placeholder": "Azure ML Workspace Name",
       "style": "IPY_MODEL_9291901705634095b07278cb85e4ed84"
      }
     },
     "c712279874084c379853783e61f21e29": {
      "model_module": "@jupyter-widgets/controls",
      "model_module_version": "1.5.0",
      "model_name": "TextModel",
      "state": {
       "description": "RG ID:",
       "layout": "IPY_MODEL_d94c8eec0f2c40469db426905c86686d",
       "placeholder": "azure-resource-group-name",
       "style": "IPY_MODEL_5524a53835b34aa78ee34f2035b9d222",
       "value": "<>"
      }
     },
     "c7a53ce37b9247eeace224166f1d94f1": {
      "model_module": "@jupyter-widgets/base",
      "model_module_version": "1.2.0",
      "model_name": "LayoutModel",
      "state": {}
     },
     "c85a8b8c4d214fe0922436cf9c67699a": {
      "model_module": "@jupyter-widgets/controls",
      "model_module_version": "1.5.0",
      "model_name": "ButtonStyleModel",
      "state": {}
     },
     "c8d32c191dc64793963073af5506c048": {
      "model_module": "@jupyter-widgets/base",
      "model_module_version": "1.2.0",
      "model_name": "LayoutModel",
      "state": {}
     },
     "c93d2897af134edcac5ee947d65eb6d2": {
      "model_module": "@jupyter-widgets/output",
      "model_module_version": "1.0.0",
      "model_name": "OutputModel",
      "state": {
       "layout": "IPY_MODEL_f41bb68a38284ccebfd959cb3eaada92"
      }
     },
     "cb7b1a5998124180829872bc6f3f0c1c": {
      "model_module": "@jupyter-widgets/controls",
      "model_module_version": "1.5.0",
      "model_name": "ButtonStyleModel",
      "state": {}
     },
     "cc4b5b9bd8a04d9781e23be2b9bc99aa": {
      "model_module": "@jupyter-widgets/controls",
      "model_module_version": "1.5.0",
      "model_name": "DescriptionStyleModel",
      "state": {
       "description_width": ""
      }
     },
     "cd293914c84b4fc18b10fe258292b7a9": {
      "model_module": "@jupyter-widgets/base",
      "model_module_version": "1.2.0",
      "model_name": "LayoutModel",
      "state": {}
     },
     "cf1d6df7c7c949edad57d1e934c90949": {
      "model_module": "@jupyter-widgets/controls",
      "model_module_version": "1.5.0",
      "model_name": "DescriptionStyleModel",
      "state": {
       "description_width": ""
      }
     },
     "d0a1f59e45414f84af5ce1825f35802e": {
      "model_module": "@jupyter-widgets/controls",
      "model_module_version": "1.5.0",
      "model_name": "DescriptionStyleModel",
      "state": {
       "description_width": ""
      }
     },
     "d115b0c0aabe4fa59c6a9753f5ca8b54": {
      "model_module": "@jupyter-widgets/controls",
      "model_module_version": "1.5.0",
      "model_name": "TextModel",
      "state": {
       "description": "aks_service_name",
       "layout": "IPY_MODEL_0f196acd9883444cbde8f3448a031f99",
       "placeholder": "AKS Service Name",
       "style": "IPY_MODEL_25ba64cade7a461bbbb277a5e2b4a4ad"
      }
     },
     "d134b7bfc9b84a6c9f83d085d474b9e8": {
      "model_module": "@jupyter-widgets/controls",
      "model_module_version": "1.5.0",
      "model_name": "ButtonModel",
      "state": {
       "button_style": "success",
       "description": "Load Upload",
       "icon": "check",
       "layout": "IPY_MODEL_406d33d5402d4d87bdfcb66edaf1b05e",
       "style": "IPY_MODEL_c85a8b8c4d214fe0922436cf9c67699a",
       "tooltip": "Click to save settings to file."
      }
     },
     "d216cdd7d7de470a9bce3d92d49e3347": {
      "model_module": "@jupyter-widgets/controls",
      "model_module_version": "1.5.0",
      "model_name": "TextModel",
      "state": {
       "description": "resource_group",
       "layout": "IPY_MODEL_0b5c5e18eccc4fb080fb5db88479216e",
       "placeholder": "Azure Resource Group Name",
       "style": "IPY_MODEL_1d5e7bc24bb14485901d6892cdc5075e"
      }
     },
     "d26ac1ecddc54c9998b56ff128d66faf": {
      "model_module": "@jupyter-widgets/base",
      "model_module_version": "1.2.0",
      "model_name": "LayoutModel",
      "state": {}
     },
     "d27ac174df1d4480b35aa46b1b4570f4": {
      "model_module": "@jupyter-widgets/base",
      "model_module_version": "1.2.0",
      "model_name": "LayoutModel",
      "state": {}
     },
     "d2b33e52ec3f43fc9c519ac4a537b28d": {
      "model_module": "@jupyter-widgets/controls",
      "model_module_version": "1.5.0",
      "model_name": "DescriptionStyleModel",
      "state": {
       "description_width": ""
      }
     },
     "d2b4e49825594e1db43e6a00ec797569": {
      "model_module": "@jupyter-widgets/base",
      "model_module_version": "1.2.0",
      "model_name": "LayoutModel",
      "state": {}
     },
     "d553a52231e74672bca7403cbf5ec1e1": {
      "model_module": "@jupyter-widgets/controls",
      "model_module_version": "1.5.0",
      "model_name": "TextModel",
      "state": {
       "description": "resource_group",
       "layout": "IPY_MODEL_22654013dc4d4b7384d8a948448d9540",
       "placeholder": "Azure Resource Group Name",
       "style": "IPY_MODEL_d2b33e52ec3f43fc9c519ac4a537b28d"
      }
     },
     "d7698f100fa04ed2b2375934d19f5a2a": {
      "model_module": "@jupyter-widgets/controls",
      "model_module_version": "1.5.0",
      "model_name": "TextModel",
      "state": {
       "description": "experiment_name",
       "layout": "IPY_MODEL_941254283086420c8fe9c3afbcbd41e7",
       "placeholder": "cpu cores for web service",
       "style": "IPY_MODEL_21b95876dae54b5fa618783ea037ae9e",
       "value": "mlaks-train-on-local"
      }
     },
     "d7b9329c9a9449d484ff0d82b8ad269c": {
      "model_module": "@jupyter-widgets/controls",
      "model_module_version": "1.5.0",
      "model_name": "DescriptionStyleModel",
      "state": {
       "description_width": ""
      }
     },
     "d94c8eec0f2c40469db426905c86686d": {
      "model_module": "@jupyter-widgets/base",
      "model_module_version": "1.2.0",
      "model_name": "LayoutModel",
      "state": {}
     },
     "d9b9396bdeb94cb7ba3dadc941aa3916": {
      "model_module": "@jupyter-widgets/base",
      "model_module_version": "1.2.0",
      "model_name": "LayoutModel",
      "state": {}
     },
     "da5bc994a4ee45438375d131b56aa056": {
      "model_module": "@jupyter-widgets/controls",
      "model_module_version": "1.5.0",
      "model_name": "TextModel",
      "state": {
       "description": "aks_service_name",
       "layout": "IPY_MODEL_6c229c9df93343229a9c0c761df6c050",
       "placeholder": "AKS Service Name",
       "style": "IPY_MODEL_5707f62936894430b4ed6f37f22e8218"
      }
     },
     "da68f25cc7d64bce923df2360a63dedb": {
      "model_module": "@jupyter-widgets/controls",
      "model_module_version": "1.5.0",
      "model_name": "DescriptionStyleModel",
      "state": {
       "description_width": ""
      }
     },
     "da7dfdd715274805900a98a14cd2160c": {
      "model_module": "@jupyter-widgets/controls",
      "model_module_version": "1.5.0",
      "model_name": "TextModel",
      "state": {
       "description": "node_count",
       "layout": "IPY_MODEL_207eca5cc8b840b4ab9674d0bb8e611b",
       "placeholder": "number of nodes in Kubernetes cluster",
       "style": "IPY_MODEL_d7b9329c9a9449d484ff0d82b8ad269c",
       "value": "4"
      }
     },
     "dac3322277164cd6827cb019373eb9d1": {
      "model_module": "@jupyter-widgets/base",
      "model_module_version": "1.2.0",
      "model_name": "LayoutModel",
      "state": {}
     },
     "dac9cab8ddb54a24876f16aac3accfce": {
      "model_module": "@jupyter-widgets/base",
      "model_module_version": "1.2.0",
      "model_name": "LayoutModel",
      "state": {}
     },
     "de5d1bed4fa34141964f8c649a44e94c": {
      "model_module": "@jupyter-widgets/base",
      "model_module_version": "1.2.0",
      "model_name": "LayoutModel",
      "state": {}
     },
     "e02c4f4eb6524c76a35c262b947f475f": {
      "model_module": "@jupyter-widgets/controls",
      "model_module_version": "1.5.0",
      "model_name": "TextModel",
      "state": {
       "description": "workspace_name",
       "layout": "IPY_MODEL_3eff9a0440334492b71640cd5da62e66",
       "placeholder": "Azure ML Workspace Name",
       "style": "IPY_MODEL_3c80d179f7584f1c8eba8607da50be69"
      }
     },
     "e11b7abda8474a89b97daf2b11635799": {
      "model_module": "@jupyter-widgets/controls",
      "model_module_version": "1.5.0",
      "model_name": "DescriptionStyleModel",
      "state": {
       "description_width": ""
      }
     },
     "e2e50b5ad5bc4753a222cc0336163c64": {
      "model_module": "@jupyter-widgets/base",
      "model_module_version": "1.2.0",
      "model_name": "LayoutModel",
      "state": {}
     },
     "e3d1f187500d4c0eb78613a3d9608d67": {
      "model_module": "@jupyter-widgets/base",
      "model_module_version": "1.2.0",
      "model_name": "LayoutModel",
      "state": {}
     },
     "e507a279447f4a31ad215a0a96390489": {
      "model_module": "@jupyter-widgets/base",
      "model_module_version": "1.2.0",
      "model_name": "LayoutModel",
      "state": {}
     },
     "e5895330dca44dec80c40b76a2f578fc": {
      "model_module": "@jupyter-widgets/output",
      "model_module_version": "1.0.0",
      "model_name": "OutputModel",
      "state": {
       "layout": "IPY_MODEL_3c8af73d8c8c4730b20d81c538d75599"
      }
     },
     "e6fd982cf7384dbfb7df0bacab1a0ff0": {
      "model_module": "@jupyter-widgets/controls",
      "model_module_version": "1.5.0",
      "model_name": "DescriptionStyleModel",
      "state": {
       "description_width": ""
      }
     },
     "e832b357de6f40ac8314105d56321c63": {
      "model_module": "@jupyter-widgets/base",
      "model_module_version": "1.2.0",
      "model_name": "LayoutModel",
      "state": {}
     },
     "e8333c9f6b7f4ab298d010c59d891a5e": {
      "model_module": "@jupyter-widgets/base",
      "model_module_version": "1.2.0",
      "model_name": "LayoutModel",
      "state": {}
     },
     "e9037e1f67c64b2e84ddc8d350e4bac2": {
      "model_module": "@jupyter-widgets/controls",
      "model_module_version": "1.5.0",
      "model_name": "TextModel",
      "state": {
       "description": "subscription_id",
       "layout": "IPY_MODEL_472c150fcd3046eab9a019b26ed5569a",
       "placeholder": "Azure Subscription Id",
       "style": "IPY_MODEL_503cb33d66c8413fa4acba6ed63c6432"
      }
     },
     "e9053b985f894c7aa4588b7455d47d57": {
      "model_module": "@jupyter-widgets/controls",
      "model_module_version": "1.5.0",
      "model_name": "DescriptionStyleModel",
      "state": {
       "description_width": ""
      }
     },
     "eba6ab8525e54f92b33522276ec442f4": {
      "model_module": "@jupyter-widgets/base",
      "model_module_version": "1.2.0",
      "model_name": "LayoutModel",
      "state": {}
     },
     "ec57279fb85d47f5a48017979a350437": {
      "model_module": "@jupyter-widgets/controls",
      "model_module_version": "1.5.0",
      "model_name": "TextModel",
      "state": {
       "description": "script",
       "layout": "IPY_MODEL_58332944363f412d95d1588611eed9a2",
       "placeholder": "cpu cores for web service",
       "style": "IPY_MODEL_448062212edf4551a6c22021fd05ffd2",
       "value": "create_model.py"
      }
     },
     "ec62a468be1147f09db6fef2fbfa65ed": {
      "model_module": "@jupyter-widgets/controls",
      "model_module_version": "1.5.0",
      "model_name": "TextModel",
      "state": {
       "description": "Sub ID:",
       "layout": "IPY_MODEL_57151219c79a4d63b618faa693f3ee72",
       "placeholder": "xxxx-xxxx-xxxx-xxxx-xxxx",
       "style": "IPY_MODEL_d0a1f59e45414f84af5ce1825f35802e",
       "value": "<>"
      }
     },
     "f04f35b48c854a34bd3ef46da00ad317": {
      "model_module": "@jupyter-widgets/controls",
      "model_module_version": "1.5.0",
      "model_name": "DescriptionStyleModel",
      "state": {
       "description_width": ""
      }
     },
     "f1b69b8cb0f6497cbc712247beca3b1d": {
      "model_module": "@jupyter-widgets/controls",
      "model_module_version": "1.5.0",
      "model_name": "TextModel",
      "state": {
       "description": "workspace_region",
       "layout": "IPY_MODEL_0069d05482fa4f50a06ebf1b2c945eb9",
       "placeholder": "Azure ML Workspace Region",
       "style": "IPY_MODEL_c41caaf66034457ea4b3d35dd99690f0"
      }
     },
     "f1f89cd0513e4a6c80b442b657b19873": {
      "model_module": "@jupyter-widgets/controls",
      "model_module_version": "1.5.0",
      "model_name": "FileUploadModel",
      "state": {
       "accept": ".yml",
       "description_tooltip": null,
       "layout": "IPY_MODEL_bc765c04e9124807b6bf63717944f9e2",
       "style": "IPY_MODEL_2e4dfdd136254aca919ab89292a5f4ff"
      }
     },
     "f2bdb0e7b8dc4510964de2db2415b115": {
      "model_module": "@jupyter-widgets/controls",
      "model_module_version": "1.5.0",
      "model_name": "DescriptionStyleModel",
      "state": {
       "description_width": ""
      }
     },
     "f35441b28ff74e8088e1504488b116b3": {
      "model_module": "@jupyter-widgets/controls",
      "model_module_version": "1.5.0",
      "model_name": "ButtonModel",
      "state": {
       "button_style": "success",
       "description": "Load Upload",
       "icon": "check",
       "layout": "IPY_MODEL_7ae643d7428c430bba03649d59466504",
       "style": "IPY_MODEL_7632c76cdff44f7282159880b9a6f003",
       "tooltip": "Click to save settings to file."
      }
     },
     "f41bb68a38284ccebfd959cb3eaada92": {
      "model_module": "@jupyter-widgets/base",
      "model_module_version": "1.2.0",
      "model_name": "LayoutModel",
      "state": {}
     },
     "f4883cd3c60d49b6b83841ae1e60ccad": {
      "model_module": "@jupyter-widgets/controls",
      "model_module_version": "1.5.0",
      "model_name": "DescriptionStyleModel",
      "state": {
       "description_width": ""
      }
     },
     "f4a9ae62b7c74eb894059cc3011397fb": {
      "model_module": "@jupyter-widgets/base",
      "model_module_version": "1.2.0",
      "model_name": "LayoutModel",
      "state": {}
     },
     "f4f87d45be174b4382d1459266b7a56c": {
      "model_module": "@jupyter-widgets/controls",
      "model_module_version": "1.5.0",
      "model_name": "TextModel",
      "state": {
       "description": "experiment_name",
       "layout": "IPY_MODEL_9c6a358a0f1048569ee18d8e494f1c4d",
       "placeholder": "cpu cores for web service",
       "style": "IPY_MODEL_3008f3c85e9a47bb8e4724279b5ccc71",
       "value": "mlaks-train-on-local"
      }
     },
     "f595c71e02e24389a8eb0477da69b1e4": {
      "model_module": "@jupyter-widgets/controls",
      "model_module_version": "1.5.0",
      "model_name": "TextModel",
      "state": {
       "description": "Sub ID:",
       "layout": "IPY_MODEL_1549024dc58e4447bc407197cb5a8523",
       "placeholder": "xxxx-xxxx-xxxx-xxxx-xxxx",
       "style": "IPY_MODEL_1f423e4a93b2473393f0a91123aa6a9d",
       "value": "<>"
      }
     },
     "f7fec581f34441e885eb8e2f9bc60d42": {
      "model_module": "@jupyter-widgets/controls",
      "model_module_version": "1.5.0",
      "model_name": "ButtonModel",
      "state": {
       "button_style": "success",
       "description": "Update Settings",
       "icon": "check",
       "layout": "IPY_MODEL_e832b357de6f40ac8314105d56321c63",
       "style": "IPY_MODEL_4e7a51127d5c4a718d1c2e7fefe33acb",
       "tooltip": "Click to save settings to file."
      }
     },
     "f877d11837ec4b21afe7321837287e56": {
      "model_module": "@jupyter-widgets/controls",
      "model_module_version": "1.5.0",
      "model_name": "DescriptionStyleModel",
      "state": {
       "description_width": ""
      }
     },
     "f90405b9904642328a23cc90815dfb9a": {
      "model_module": "@jupyter-widgets/controls",
      "model_module_version": "1.5.0",
      "model_name": "DescriptionStyleModel",
      "state": {
       "description_width": ""
      }
     },
     "fb908a6a1d5d4b7e8ba2da6adc81061b": {
      "model_module": "@jupyter-widgets/base",
      "model_module_version": "1.2.0",
      "model_name": "LayoutModel",
      "state": {}
     }
    },
    "version_major": 2,
    "version_minor": 0
   }
  }
 },
 "nbformat": 4,
 "nbformat_minor": 4
}
